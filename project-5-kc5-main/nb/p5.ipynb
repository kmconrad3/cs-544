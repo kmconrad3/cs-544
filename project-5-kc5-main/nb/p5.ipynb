{
 "cells": [
  {
   "cell_type": "code",
   "execution_count": 1,
   "id": "bd8409d4-0f12-45e2-975f-fc58744f5818",
   "metadata": {},
   "outputs": [],
   "source": [
    "from cassandra.cluster import Cluster\n",
    "import pandas as pd\n",
    "\n",
    "try:\n",
    "    cluster = Cluster(['project-5-kc-db-1', 'project-5-kc-db-2', 'project-5-kc-db-3'])\n",
    "    cass = cluster.connect()\n",
    "except Exception as e:\n",
    "    print(e)"
   ]
  },
  {
   "cell_type": "code",
   "execution_count": 2,
   "id": "33398627-7cad-4f88-821d-86b17c2481a2",
   "metadata": {},
   "outputs": [
    {
     "data": {
      "text/plain": [
       "<cassandra.cluster.ResultSet at 0x7f4cfbcce7a0>"
      ]
     },
     "execution_count": 2,
     "metadata": {},
     "output_type": "execute_result"
    }
   ],
   "source": [
    "cass.execute(\"drop keyspace if exists weather\")"
   ]
  },
  {
   "cell_type": "code",
   "execution_count": 3,
   "id": "846021d6-9350-4e3c-b4eb-23f0d9e1f12b",
   "metadata": {},
   "outputs": [
    {
     "data": {
      "text/plain": [
       "<cassandra.cluster.ResultSet at 0x7f4cfbcccca0>"
      ]
     },
     "execution_count": 3,
     "metadata": {},
     "output_type": "execute_result"
    }
   ],
   "source": [
    "cass.execute(\"create keyspace weather with replication = {'class': 'SimpleStrategy', 'replication_factor': 3}\")\n",
    "cass.execute(\"use weather\")\n",
    "cass.execute(\"create type station_record (tmin int, tmax int)\")\n",
    "(cass.execute(\"\"\"\n",
    "    CREATE TABLE stations (\n",
    "        id text,\n",
    "        name text STATIC,\n",
    "        date date,\n",
    "        record weather.station_record,\n",
    "        PRIMARY KEY (id, date)\n",
    "    )\n",
    "    WITH CLUSTERING ORDER BY (date ASC)\n",
    "\"\"\"))"
   ]
  },
  {
   "cell_type": "code",
   "execution_count": 4,
   "id": "69b70d77-d975-472b-a99b-abbfcccc137d",
   "metadata": {},
   "outputs": [
    {
     "name": "stdout",
     "output_type": "stream",
     "text": [
      "CREATE KEYSPACE weather WITH replication = {'class': 'SimpleStrategy', 'replication_factor': '3'}  AND durable_writes = true; \n",
      "\n",
      "CREATE TABLE weather.stations (\n",
      "    id text,\n",
      "    date date,\n",
      "    name text static,\n",
      "    record station_record,\n",
      "    PRIMARY KEY (id, date)\n",
      ") WITH CLUSTERING ORDER BY (date ASC)\n",
      "    AND additional_write_policy = '99p'\n",
      "    AND bloom_filter_fp_chance = 0.01\n",
      "    AND caching = {'keys': 'ALL', 'rows_per_partition': 'NONE'}\n",
      "    AND cdc = false\n",
      "    AND comment = ''\n",
      "    AND compaction = {'class': 'org.apache.cassandra.db.compaction.SizeTieredCompactionStrategy', 'max_threshold': '32', 'min_threshold': '4'}\n",
      "    AND compression = {'chunk_length_in_kb': '16', 'class': 'org.apache.cassandra.io.compress.LZ4Compressor'}\n",
      "    AND crc_check_chance = 1.0\n",
      "    AND default_time_to_live = 0\n",
      "    AND extensions = {}\n",
      "    AND gc_grace_seconds = 864000\n",
      "    AND max_index_interval = 2048\n",
      "    AND memtable_flush_period_in_ms = 0\n",
      "    AND min_index_interval = 128\n",
      "    AND read_repair = 'BLOCKING'\n",
      "    AND speculative_retry = '99p';\n"
     ]
    }
   ],
   "source": [
    "#q1\n",
    "print(cass.execute(\"describe keyspace weather\").one().create_statement, \"\\n\")\n",
    "print(cass.execute(\"describe table weather.stations\").one().create_statement)"
   ]
  },
  {
   "cell_type": "code",
   "execution_count": 5,
   "id": "68a103c5-ef2b-4374-98b3-9ad0eeefb58f",
   "metadata": {},
   "outputs": [],
   "source": [
    "!python3 -m grpc_tools.protoc -I=. --python_out=. --grpc_python_out=. station.proto"
   ]
  },
  {
   "cell_type": "code",
   "execution_count": 6,
   "id": "4f5b6685-70ce-418f-ad7b-e6b4dfc311eb",
   "metadata": {},
   "outputs": [
    {
     "name": "stdout",
     "output_type": "stream",
     "text": [
      ":: loading settings :: url = jar:file:/usr/local/lib/python3.10/dist-packages/pyspark/jars/ivy-2.5.0.jar!/org/apache/ivy/core/settings/ivysettings.xml\n"
     ]
    },
    {
     "name": "stderr",
     "output_type": "stream",
     "text": [
      "Ivy Default Cache set to: /root/.ivy2/cache\n",
      "The jars for the packages stored in: /root/.ivy2/jars\n",
      "com.datastax.spark#spark-cassandra-connector_2.12 added as a dependency\n",
      ":: resolving dependencies :: org.apache.spark#spark-submit-parent-dd463f39-758c-4cfd-b916-6b45dc63906d;1.0\n",
      "\tconfs: [default]\n",
      "\tfound com.datastax.spark#spark-cassandra-connector_2.12;3.2.0 in central\n",
      "\tfound com.datastax.spark#spark-cassandra-connector-driver_2.12;3.2.0 in central\n",
      "\tfound com.datastax.oss#java-driver-core-shaded;4.13.0 in central\n",
      "\tfound com.datastax.oss#native-protocol;1.5.0 in central\n",
      "\tfound com.datastax.oss#java-driver-shaded-guava;25.1-jre-graal-sub-1 in central\n",
      "\tfound com.typesafe#config;1.4.1 in central\n",
      "\tfound org.slf4j#slf4j-api;1.7.26 in central\n",
      "\tfound io.dropwizard.metrics#metrics-core;4.1.18 in central\n",
      "\tfound org.hdrhistogram#HdrHistogram;2.1.12 in central\n",
      "\tfound org.reactivestreams#reactive-streams;1.0.3 in central\n",
      "\tfound com.github.stephenc.jcip#jcip-annotations;1.0-1 in central\n",
      "\tfound com.github.spotbugs#spotbugs-annotations;3.1.12 in central\n",
      "\tfound com.google.code.findbugs#jsr305;3.0.2 in central\n",
      "\tfound com.datastax.oss#java-driver-mapper-runtime;4.13.0 in central\n",
      "\tfound com.datastax.oss#java-driver-query-builder;4.13.0 in central\n",
      "\tfound org.apache.commons#commons-lang3;3.10 in central\n",
      "\tfound com.thoughtworks.paranamer#paranamer;2.8 in central\n",
      "\tfound org.scala-lang#scala-reflect;2.12.11 in central\n",
      "downloading https://repo1.maven.org/maven2/com/datastax/spark/spark-cassandra-connector_2.12/3.2.0/spark-cassandra-connector_2.12-3.2.0.jar ...\n",
      "\t[SUCCESSFUL ] com.datastax.spark#spark-cassandra-connector_2.12;3.2.0!spark-cassandra-connector_2.12.jar (115ms)\n",
      "downloading https://repo1.maven.org/maven2/com/datastax/spark/spark-cassandra-connector-driver_2.12/3.2.0/spark-cassandra-connector-driver_2.12-3.2.0.jar ...\n",
      "\t[SUCCESSFUL ] com.datastax.spark#spark-cassandra-connector-driver_2.12;3.2.0!spark-cassandra-connector-driver_2.12.jar (127ms)\n",
      "downloading https://repo1.maven.org/maven2/com/datastax/oss/java-driver-core-shaded/4.13.0/java-driver-core-shaded-4.13.0.jar ...\n",
      "\t[SUCCESSFUL ] com.datastax.oss#java-driver-core-shaded;4.13.0!java-driver-core-shaded.jar (323ms)\n",
      "downloading https://repo1.maven.org/maven2/com/datastax/oss/java-driver-mapper-runtime/4.13.0/java-driver-mapper-runtime-4.13.0.jar ...\n",
      "\t[SUCCESSFUL ] com.datastax.oss#java-driver-mapper-runtime;4.13.0!java-driver-mapper-runtime.jar(bundle) (16ms)\n",
      "downloading https://repo1.maven.org/maven2/org/apache/commons/commons-lang3/3.10/commons-lang3-3.10.jar ...\n",
      "\t[SUCCESSFUL ] org.apache.commons#commons-lang3;3.10!commons-lang3.jar (63ms)\n",
      "downloading https://repo1.maven.org/maven2/com/thoughtworks/paranamer/paranamer/2.8/paranamer-2.8.jar ...\n",
      "\t[SUCCESSFUL ] com.thoughtworks.paranamer#paranamer;2.8!paranamer.jar(bundle) (16ms)\n",
      "downloading https://repo1.maven.org/maven2/org/scala-lang/scala-reflect/2.12.11/scala-reflect-2.12.11.jar ...\n",
      "\t[SUCCESSFUL ] org.scala-lang#scala-reflect;2.12.11!scala-reflect.jar (205ms)\n",
      "downloading https://repo1.maven.org/maven2/com/datastax/oss/native-protocol/1.5.0/native-protocol-1.5.0.jar ...\n",
      "\t[SUCCESSFUL ] com.datastax.oss#native-protocol;1.5.0!native-protocol.jar(bundle) (17ms)\n",
      "downloading https://repo1.maven.org/maven2/com/datastax/oss/java-driver-shaded-guava/25.1-jre-graal-sub-1/java-driver-shaded-guava-25.1-jre-graal-sub-1.jar ...\n",
      "\t[SUCCESSFUL ] com.datastax.oss#java-driver-shaded-guava;25.1-jre-graal-sub-1!java-driver-shaded-guava.jar (53ms)\n",
      "downloading https://repo1.maven.org/maven2/com/typesafe/config/1.4.1/config-1.4.1.jar ...\n",
      "\t[SUCCESSFUL ] com.typesafe#config;1.4.1!config.jar(bundle) (19ms)\n",
      "downloading https://repo1.maven.org/maven2/org/slf4j/slf4j-api/1.7.26/slf4j-api-1.7.26.jar ...\n",
      "\t[SUCCESSFUL ] org.slf4j#slf4j-api;1.7.26!slf4j-api.jar (15ms)\n",
      "downloading https://repo1.maven.org/maven2/io/dropwizard/metrics/metrics-core/4.1.18/metrics-core-4.1.18.jar ...\n",
      "\t[SUCCESSFUL ] io.dropwizard.metrics#metrics-core;4.1.18!metrics-core.jar(bundle) (15ms)\n",
      "downloading https://repo1.maven.org/maven2/org/hdrhistogram/HdrHistogram/2.1.12/HdrHistogram-2.1.12.jar ...\n",
      "\t[SUCCESSFUL ] org.hdrhistogram#HdrHistogram;2.1.12!HdrHistogram.jar(bundle) (24ms)\n",
      "downloading https://repo1.maven.org/maven2/org/reactivestreams/reactive-streams/1.0.3/reactive-streams-1.0.3.jar ...\n",
      "\t[SUCCESSFUL ] org.reactivestreams#reactive-streams;1.0.3!reactive-streams.jar (14ms)\n",
      "downloading https://repo1.maven.org/maven2/com/github/stephenc/jcip/jcip-annotations/1.0-1/jcip-annotations-1.0-1.jar ...\n",
      "\t[SUCCESSFUL ] com.github.stephenc.jcip#jcip-annotations;1.0-1!jcip-annotations.jar (14ms)\n",
      "downloading https://repo1.maven.org/maven2/com/github/spotbugs/spotbugs-annotations/3.1.12/spotbugs-annotations-3.1.12.jar ...\n",
      "\t[SUCCESSFUL ] com.github.spotbugs#spotbugs-annotations;3.1.12!spotbugs-annotations.jar (16ms)\n",
      "downloading https://repo1.maven.org/maven2/com/google/code/findbugs/jsr305/3.0.2/jsr305-3.0.2.jar ...\n",
      "\t[SUCCESSFUL ] com.google.code.findbugs#jsr305;3.0.2!jsr305.jar (14ms)\n",
      "downloading https://repo1.maven.org/maven2/com/datastax/oss/java-driver-query-builder/4.13.0/java-driver-query-builder-4.13.0.jar ...\n",
      "\t[SUCCESSFUL ] com.datastax.oss#java-driver-query-builder;4.13.0!java-driver-query-builder.jar(bundle) (17ms)\n",
      ":: resolution report :: resolve 6099ms :: artifacts dl 1121ms\n",
      "\t:: modules in use:\n",
      "\tcom.datastax.oss#java-driver-core-shaded;4.13.0 from central in [default]\n",
      "\tcom.datastax.oss#java-driver-mapper-runtime;4.13.0 from central in [default]\n",
      "\tcom.datastax.oss#java-driver-query-builder;4.13.0 from central in [default]\n",
      "\tcom.datastax.oss#java-driver-shaded-guava;25.1-jre-graal-sub-1 from central in [default]\n",
      "\tcom.datastax.oss#native-protocol;1.5.0 from central in [default]\n",
      "\tcom.datastax.spark#spark-cassandra-connector-driver_2.12;3.2.0 from central in [default]\n",
      "\tcom.datastax.spark#spark-cassandra-connector_2.12;3.2.0 from central in [default]\n",
      "\tcom.github.spotbugs#spotbugs-annotations;3.1.12 from central in [default]\n",
      "\tcom.github.stephenc.jcip#jcip-annotations;1.0-1 from central in [default]\n",
      "\tcom.google.code.findbugs#jsr305;3.0.2 from central in [default]\n",
      "\tcom.thoughtworks.paranamer#paranamer;2.8 from central in [default]\n",
      "\tcom.typesafe#config;1.4.1 from central in [default]\n",
      "\tio.dropwizard.metrics#metrics-core;4.1.18 from central in [default]\n",
      "\torg.apache.commons#commons-lang3;3.10 from central in [default]\n",
      "\torg.hdrhistogram#HdrHistogram;2.1.12 from central in [default]\n",
      "\torg.reactivestreams#reactive-streams;1.0.3 from central in [default]\n",
      "\torg.scala-lang#scala-reflect;2.12.11 from central in [default]\n",
      "\torg.slf4j#slf4j-api;1.7.26 from central in [default]\n",
      "\t---------------------------------------------------------------------\n",
      "\t|                  |            modules            ||   artifacts   |\n",
      "\t|       conf       | number| search|dwnlded|evicted|| number|dwnlded|\n",
      "\t---------------------------------------------------------------------\n",
      "\t|      default     |   18  |   18  |   18  |   0   ||   18  |   18  |\n",
      "\t---------------------------------------------------------------------\n",
      ":: retrieving :: org.apache.spark#spark-submit-parent-dd463f39-758c-4cfd-b916-6b45dc63906d\n",
      "\tconfs: [default]\n",
      "\t18 artifacts copied, 0 already retrieved (18065kB/88ms)\n",
      "23/05/19 22:30:02 WARN NativeCodeLoader: Unable to load native-hadoop library for your platform... using builtin-java classes where applicable\n",
      "Using Spark's default log4j profile: org/apache/spark/log4j-defaults.properties\n",
      "Setting default log level to \"WARN\".\n",
      "To adjust logging level use sc.setLogLevel(newLevel). For SparkR, use setLogLevel(newLevel).\n"
     ]
    }
   ],
   "source": [
    "from pyspark.sql import SparkSession\n",
    "spark = (SparkSession.builder\n",
    "         .appName(\"p5\")\n",
    "         .config('spark.jars.packages', 'com.datastax.spark:spark-cassandra-connector_2.12:3.2.0') #3.3.0 update\n",
    "         .config(\"spark.sql.extensions\", \"com.datastax.spark.connector.CassandraSparkExtensions\")\n",
    "         .getOrCreate())"
   ]
  },
  {
   "cell_type": "code",
   "execution_count": 7,
   "id": "7b74d757-55e6-4a76-b821-fe2514c4049c",
   "metadata": {},
   "outputs": [
    {
     "name": "stdout",
     "output_type": "stream",
     "text": [
      "Reading package lists... Done\n",
      "Building dependency tree... Done\n",
      "Reading state information... Done\n",
      "The following additional packages will be installed:\n",
      "  unzip\n",
      "The following NEW packages will be installed:\n",
      "  unzip zip\n",
      "0 upgraded, 2 newly installed, 0 to remove and 4 not upgraded.\n",
      "Need to get 350 kB of archives.\n",
      "After this operation, 929 kB of additional disk space will be used.\n",
      "Get:1 http://archive.ubuntu.com/ubuntu jammy-updates/main amd64 unzip amd64 6.0-26ubuntu3.1 [174 kB]\n",
      "Get:2 http://archive.ubuntu.com/ubuntu jammy/main amd64 zip amd64 3.0-12build2 [176 kB]\n",
      "Fetched 350 kB in 0s (923 kB/s)\n",
      "debconf: delaying package configuration, since apt-utils is not installed\n",
      "Selecting previously unselected package unzip.\n",
      "(Reading database ... 33973 files and directories currently installed.)\n",
      "Preparing to unpack .../unzip_6.0-26ubuntu3.1_amd64.deb ...\n",
      "Unpacking unzip (6.0-26ubuntu3.1) ...\n",
      "Selecting previously unselected package zip.\n",
      "Preparing to unpack .../zip_3.0-12build2_amd64.deb ...\n",
      "Unpacking zip (3.0-12build2) ...\n",
      "Setting up unzip (6.0-26ubuntu3.1) ...\n",
      "Setting up zip (3.0-12build2) ...\n"
     ]
    }
   ],
   "source": [
    "!apt-get install zip -y"
   ]
  },
  {
   "cell_type": "code",
   "execution_count": 8,
   "id": "7695c220-3052-41ce-9d57-99e1f0f8cf3d",
   "metadata": {
    "tags": []
   },
   "outputs": [],
   "source": [
    "import os\n",
    "\n",
    "if not os.path.exists('ghcnd-stations.txt'):\n",
    "    !wget https://pages.cs.wisc.edu/~harter/cs639/data/ghcnd-stations.txt\n",
    "\n",
    "if not os.path.exists('wi-stations.zip'):\n",
    "    !wget https://pages.cs.wisc.edu/~harter/cs639/data/wi-stations.zip\n",
    "    !unzip wi-stations.zip"
   ]
  },
  {
   "cell_type": "code",
   "execution_count": 9,
   "id": "fce994a4-556f-4c8f-886b-77849a7c32d3",
   "metadata": {},
   "outputs": [
    {
     "name": "stderr",
     "output_type": "stream",
     "text": [
      "                                                                                \r"
     ]
    }
   ],
   "source": [
    "from pyspark.sql.functions import expr\n",
    "\n",
    "df = spark.read.text(\"ghcnd-stations.txt\")\n",
    "wi_stations_df = df.filter(df.value.substr(39, 2) == \"WI\")\n",
    "stations_metadata_df = wi_stations_df.select(\n",
    "    wi_stations_df.value.substr(0, 11).alias(\"id\"),\n",
    "    wi_stations_df.value.substr(41, 50).alias(\"name\")\n",
    ")\n",
    "#stations_metadata_df.toPandas()\n",
    "\n",
    "#df2 = df.withColumn(\"state\", expr(\"substring(value, 39, 2)\")) #.toPandas()\n",
    "#df2 = df2[df2[\"state\"].isin([\"WI\"])]\n",
    "\n",
    "meta = cass.prepare(\"\"\"INSERT INTO weather.stations (id, name) VALUES ( ?, ? )\"\"\")\n",
    "for i in stations_metadata_df.collect():\n",
    "    id_val, name_val = i[\"id\"], i[\"name\"]\n",
    "    cass.execute(meta, (id_val, name_val))"
   ]
  },
  {
   "cell_type": "code",
   "execution_count": 10,
   "id": "d3a7ee21-970c-4798-9fda-182bc0e4789c",
   "metadata": {},
   "outputs": [
    {
     "name": "stdout",
     "output_type": "stream",
     "text": [
      "b'\\nDatacenter: datacenter1\\n==========\\nAddress          Rack        Status State   Load            Owns                Token                                       \\n                                                                                9162903745432330017                         \\n172.19.0.3       rack1       Up     Normal  69.05 KiB       100.00%             -8948129293611142139                        \\n172.19.0.3       rack1       Up     Normal  69.05 KiB       100.00%             -8103752646119980381                        \\n172.19.0.2       rack1       Up     Normal  86.53 KiB       100.00%             -7962413325253462544                        \\n172.19.0.4       rack1       Up     Normal  69.04 KiB       100.00%             -7693835775763322960                        \\n172.19.0.2       rack1       Up     Normal  86.53 KiB       100.00%             -6890912708913429731                        \\n172.19.0.3       rack1       Up     Normal  69.05 KiB       100.00%             -6663484416217397141                        \\n172.19.0.4       rack1       Up     Normal  69.04 KiB       100.00%             -6074812480066279662                        \\n172.19.0.2       rack1       Up     Normal  86.53 KiB       100.00%             -5873061304171002715                        \\n172.19.0.3       rack1       Up     Normal  69.05 KiB       100.00%             -5591983799877364329                        \\n172.19.0.4       rack1       Up     Normal  69.04 KiB       100.00%             -5096667027550165587                        \\n172.19.0.2       rack1       Up     Normal  86.53 KiB       100.00%             -5055389371558651921                        \\n172.19.0.3       rack1       Up     Normal  69.05 KiB       100.00%             -4574132395134937313                        \\n172.19.0.2       rack1       Up     Normal  86.53 KiB       100.00%             -3979633490333072381                        \\n172.19.0.3       rack1       Up     Normal  69.05 KiB       100.00%             -3756460462522586519                        \\n172.19.0.4       rack1       Up     Normal  69.04 KiB       100.00%             -3318032726726578458                        \\n172.19.0.2       rack1       Up     Normal  86.53 KiB       100.00%             -3243717797622178740                        \\n172.19.0.3       rack1       Up     Normal  69.05 KiB       100.00%             -2680704581297006979                        \\n172.19.0.4       rack1       Up     Normal  69.04 KiB       100.00%             -2221990826491640169                        \\n172.19.0.2       rack1       Up     Normal  86.53 KiB       100.00%             -2164344990174577083                        \\n172.19.0.3       rack1       Up     Normal  69.05 KiB       100.00%             -1944788888586113339                        \\n172.19.0.4       rack1       Up     Normal  69.04 KiB       100.00%             -1130693715799427909                        \\n172.19.0.2       rack1       Up     Normal  86.53 KiB       100.00%             -920824984493985110                         \\n172.19.0.3       rack1       Up     Normal  69.05 KiB       100.00%             -865416081138511682                         \\n172.19.0.4       rack1       Up     Normal  69.04 KiB       100.00%             -286317068308266153                         \\n172.19.0.2       rack1       Up     Normal  86.53 KiB       100.00%             46539258584550388                           \\n172.19.0.3       rack1       Up     Normal  69.05 KiB       100.00%             378103924542080290                          \\n172.19.0.4       rack1       Up     Normal  69.04 KiB       100.00%             1153951161594317085                         \\n172.19.0.3       rack1       Up     Normal  69.05 KiB       100.00%             1345468167620615789                         \\n172.19.0.2       rack1       Up     Normal  86.53 KiB       100.00%             1636543811098449026                         \\n172.19.0.4       rack1       Up     Normal  69.04 KiB       100.00%             2225451777934349898                         \\n172.19.0.3       rack1       Up     Normal  69.05 KiB       100.00%             2935472720134514427                         \\n172.19.0.4       rack1       Up     Normal  69.04 KiB       100.00%             3243303182676776913                         \\n172.19.0.2       rack1       Up     Normal  86.53 KiB       100.00%             3255567106795492323                         \\n172.19.0.4       rack1       Up     Normal  69.04 KiB       100.00%             4060975115289127708                         \\n172.19.0.2       rack1       Up     Normal  86.53 KiB       100.00%             4233712559311606399                         \\n172.19.0.3       rack1       Up     Normal  69.05 KiB       100.00%             4554496015831557724                         \\n172.19.0.4       rack1       Up     Normal  69.04 KiB       100.00%             5136730996514707247                         \\n172.19.0.3       rack1       Up     Normal  69.05 KiB       100.00%             5532641468347671800                         \\n172.19.0.4       rack1       Up     Normal  69.04 KiB       100.00%             5872646689225600888                         \\n172.19.0.2       rack1       Up     Normal  86.53 KiB       100.00%             6012346860135193527                         \\n172.19.0.4       rack1       Up     Normal  69.04 KiB       100.00%             6952019496673202546                         \\n172.19.0.2       rack1       Up     Normal  86.53 KiB       100.00%             7108388760370131816                         \\n172.19.0.3       rack1       Up     Normal  69.05 KiB       100.00%             7311275769171258928                         \\n172.19.0.4       rack1       Up     Normal  69.04 KiB       100.00%             8195539502353794518                         \\n172.19.0.2       rack1       Up     Normal  86.53 KiB       100.00%             8199685871062344075                         \\n172.19.0.3       rack1       Up     Normal  69.05 KiB       100.00%             8407317669406197217                         \\n172.19.0.2       rack1       Up     Normal  86.53 KiB       100.00%             9044062518553505833                         \\n172.19.0.4       rack1       Up     Normal  69.04 KiB       100.00%             9162903745432330017                         \\n\\n  Warning: \"nodetool ring\" is used to output all the tokens of a node.\\n  To view status related info of a node use \"nodetool status\" instead.\\n\\n\\n  ' \n",
      "\n",
      "row token:  -9014250178872933741\n",
      "vnode token:  -8948129293611142139\n"
     ]
    },
    {
     "name": "stderr",
     "output_type": "stream",
     "text": [
      "/tmp/ipykernel_644/389881866.py:8: DeprecationWarning: ResultSet indexing support will be removed in 4.0. Consider using ResultSet.one() to get a single row.\n",
      "  print(\"row token: \", result[0][0] )\n",
      "/tmp/ipykernel_644/389881866.py:21: DeprecationWarning: ResultSet indexing support will be removed in 4.0. Consider using ResultSet.one() to get a single row.\n",
      "  if c==0 & (result[0][0]<int(i[0])):\n"
     ]
    }
   ],
   "source": [
    "#q2\n",
    "import subprocess\n",
    "output = subprocess.check_output(['nodetool', 'ring'])\n",
    "print(output, \"\\n\")\n",
    "\n",
    "\n",
    "result = cass.execute(\"SELECT token(id) FROM weather.stations WHERE id = 'USC00470273'\") \n",
    "print(\"row token: \", result[0][0] ) \n",
    "\n",
    "output_str = output.decode()\n",
    "lines = output_str.splitlines()\n",
    "token_numbers = []\n",
    "for line in lines[5:-6]: \n",
    "    tokens = line.split()  \n",
    "    token_number = tokens[-1::]\n",
    "    token_numbers.append(token_number) \n",
    "    \n",
    "for i in token_numbers:\n",
    "    best = int(i[0])\n",
    "    c=0\n",
    "    if c==0 & (result[0][0]<int(i[0])):\n",
    "        best=int(i[0])\n",
    "        break\n",
    "    elif result[0][0]<int(i[0]):\n",
    "        best = int(i[0])\n",
    "        c+=1\n",
    "    elif result[0][0]>int(i[0]):\n",
    "        if c+1==len(token_number):\n",
    "            best=int(token_numbers[0][0])\n",
    "            break\n",
    "print(\"vnode token: \", best)"
   ]
  },
  {
   "cell_type": "markdown",
   "id": "8f36c2de-e888-48c0-97f3-8bc0ae4a91c1",
   "metadata": {},
   "source": [
    "## Part 2"
   ]
  },
  {
   "cell_type": "code",
   "execution_count": 12,
   "id": "5b78faf9-8a74-4e69-98cc-68c9e5517d36",
   "metadata": {
    "tags": []
   },
   "outputs": [
    {
     "name": "stderr",
     "output_type": "stream",
     "text": [
      "/tmp/ipykernel_644/2490732828.py:10: DtypeWarning: Columns (5) have mixed types. Specify dtype option on import or set low_memory=False.\n",
      "  df = pd.read_csv(station + \".csv.gz\")\n"
     ]
    },
    {
     "name": "stdout",
     "output_type": "stream",
     "text": [
      "max temp for USW00014837 is 356\n",
      "max temp for USR0000WDDG is 344\n"
     ]
    },
    {
     "name": "stderr",
     "output_type": "stream",
     "text": [
      "/tmp/ipykernel_644/2490732828.py:10: DtypeWarning: Columns (5) have mixed types. Specify dtype option on import or set low_memory=False.\n",
      "  df = pd.read_csv(station + \".csv.gz\")\n"
     ]
    },
    {
     "name": "stdout",
     "output_type": "stream",
     "text": [
      "max temp for USW00014898 is 356\n"
     ]
    },
    {
     "name": "stderr",
     "output_type": "stream",
     "text": [
      "/tmp/ipykernel_644/2490732828.py:10: DtypeWarning: Columns (5) have mixed types. Specify dtype option on import or set low_memory=False.\n",
      "  df = pd.read_csv(station + \".csv.gz\")\n"
     ]
    },
    {
     "name": "stdout",
     "output_type": "stream",
     "text": [
      "max temp for USW00014839 is 378\n"
     ]
    }
   ],
   "source": [
    "import grpc, station_pb2_grpc, station_pb2\n",
    "import sys, random\n",
    "import pandas as pd\n",
    "from datetime import date\n",
    "\n",
    "channel = grpc.insecure_channel('c2583dcfcd12:5440') #CONTAINER project-5-kc-db-3: docker exec -it c2583dcfcd12 python3 /notebooks/server.py\n",
    "stub = station_pb2_grpc.StationStub(channel)\n",
    "\n",
    "def simulate_sensor(station):\n",
    "    df = pd.read_csv(station + \".csv.gz\")\n",
    "    tempsDictionary = {}\n",
    "    for line in df.itertuples():\n",
    "        if str(line[2])[0:4] == \"2022\" and (line[3] == \"TMAX\" or line[3] == \"TMIN\"):\n",
    "            stdate = str(line[2])\n",
    "            stdate = date(int(stdate[0:4]), int(stdate[4:6]), int(stdate[6:8]))\n",
    "            if stdate in tempsDictionary:\n",
    "                temp = tempsDictionary[stdate]\n",
    "                temp.append(int(line[4]))\n",
    "                tempsDictionary[stdate] = temp\n",
    "            else:\n",
    "                temp = []\n",
    "                temp.append(int(line[4]))\n",
    "                tempsDictionary[stdate] = temp\n",
    "    for d in tempsDictionary.keys():\n",
    "        stub.RecordTemps(request = station_pb2.RecordTempsRequest(station = station, date = str(d), tmin = min(tempsDictionary[d]), tmax = max(tempsDictionary[d])))\n",
    "\n",
    "    \n",
    "for station in [\"USW00014837\", \"USR0000WDDG\", \"USW00014898\", \"USW00014839\"]:\n",
    "    simulate_sensor(station)\n",
    "    r = stub.StationMax(station_pb2.StationMaxRequest(station=station))\n",
    "    if r.error:\n",
    "        print(r.error)\n",
    "    else:\n",
    "        print(f\"max temp for {station} is {r.tmax}\")"
   ]
  },
  {
   "cell_type": "markdown",
   "id": "4a04378d-6604-4cde-9551-5cfec5ec3f36",
   "metadata": {},
   "source": [
    "## Part 3"
   ]
  },
  {
   "cell_type": "code",
   "execution_count": 17,
   "id": "1c6a874d-3385-4af0-b356-c5481e445dae",
   "metadata": {},
   "outputs": [
    {
     "name": "stdout",
     "output_type": "stream",
     "text": [
      "+---------+-----------+-----------+\n",
      "|namespace|  tableName|isTemporary|\n",
      "+---------+-----------+-----------+\n",
      "|         |weather2022|       true|\n",
      "+---------+-----------+-----------+\n",
      "\n"
     ]
    },
    {
     "name": "stderr",
     "output_type": "stream",
     "text": [
      "23/05/19 22:44:47 WARN CacheManager: Asked to cache already cached data.\n",
      "23/05/19 22:44:47 WARN SimpleFunctionRegistry: The function tempudf replaced a previously registered function.\n"
     ]
    },
    {
     "data": {
      "text/plain": [
       "<function __main__.FahrenheitConverter(temp)>"
      ]
     },
     "execution_count": 17,
     "metadata": {},
     "output_type": "execute_result"
    }
   ],
   "source": [
    "from pyspark.sql import SparkSession\n",
    "from pyspark.sql.types import IntegerType,StringType\n",
    "from pyspark.sql.functions import udf\n",
    "from pyspark.sql.functions import corr\n",
    "\n",
    "spark.conf.set(\"spark.sql.catalog.cassandra\", \"com.datastax.spark.connector.datasource.CassandraCatalog\")\n",
    "spark.conf.set(\"spark.sql.catalog.cassandra.spark.cassandra.connection.host\", \"project-5-kc-db-1:9042\") #lec25\n",
    "\n",
    "stations = spark.table(\"cassandra.weather.stations\")\n",
    "\n",
    "spark.sql(\"\"\"\n",
    "SELECT * \n",
    "FROM cassandra.weather.stations \n",
    "WHERE date LIKE \"%2022%\"\n",
    "\"\"\").createOrReplaceTempView(\"weather2022\")\n",
    "\n",
    "spark.table(\"weather2022\").cache()\n",
    "\n",
    "def FahrenheitConverter(temp):\n",
    "    return float((temp / 10) * (9/5) + 32)\n",
    "\n",
    "tempUDF = udf(lambda t : FahrenheitConverter(t))\n",
    "spark.udf.register(\"tempUDF\", FahrenheitConverter)\n",
    "\n",
    "spark.sql(\"show tables\").show()"
   ]
  },
  {
   "cell_type": "code",
   "execution_count": 14,
   "id": "712ca68b-311c-4fb3-b4dc-18d301c69edf",
   "metadata": {},
   "outputs": [
    {
     "name": "stderr",
     "output_type": "stream",
     "text": [
      "                                                                                \r"
     ]
    },
    {
     "data": {
      "text/plain": [
       "<matplotlib.legend.Legend at 0x7f4cdbcca320>"
      ]
     },
     "execution_count": 14,
     "metadata": {},
     "output_type": "execute_result"
    },
    {
     "data": {
      "image/png": "[encoded data removed]",
      "text/plain": [
       "<Figure size 640x480 with 1 Axes>"
      ]
     },
     "metadata": {},
     "output_type": "display_data"
    }
   ],
   "source": [
    "#q3\n",
    "import matplotlib.pyplot as plt\n",
    "\n",
    "data = spark.sql(\"\"\"\n",
    "SELECT id, date, tempUDF(record.tmin) as TMIN, tempUDF(record.tmax) as TMAX\n",
    "FROM weather2022\n",
    "WHERE id = \"USW00014837\"\n",
    "\"\"\").toPandas()\n",
    "\n",
    "data[\"TMIN\"]= data['TMIN'].astype(float) #for plotting\n",
    "data['TMAX'] = data['TMAX'].astype(float)\n",
    "\n",
    "fig = data.plot.line(x = \"date\", y = [\"TMIN\", \"TMAX\"], ylabel = \"Daily Temp (Fahrenheit)\")\n",
    "fig.legend([\"low\", \"high\"])"
   ]
  },
  {
   "cell_type": "code",
   "execution_count": 15,
   "id": "f4f6143c-10b1-41ea-9dc9-35e24000cd6e",
   "metadata": {},
   "outputs": [
    {
     "name": "stderr",
     "output_type": "stream",
     "text": [
      "                                                                                \r"
     ]
    },
    {
     "data": {
      "text/plain": [
       "[Row(corr=0.9786907979650676)]"
      ]
     },
     "execution_count": 15,
     "metadata": {},
     "output_type": "execute_result"
    }
   ],
   "source": [
    "#q4\n",
    "df = spark.sql(\"\"\"\n",
    "SELECT id, tempUDF(record.tmax) as TMAX\n",
    "FROM weather2022\n",
    "WHERE id = \"USW00014837\" \n",
    "\"\"\").toPandas()\n",
    "\n",
    "df2 = spark.sql(\"\"\"\n",
    "SELECT id, tempUDF(record.tmax) as TMAX\n",
    "FROM weather2022\n",
    "WHERE id = \"USW00014839\"\n",
    "\"\"\").toPandas()\n",
    "\n",
    "df3 = spark.createDataFrame(zip(df[\"TMAX\"], df2[\"TMAX\"]), [\"df\", \"df2\"])\n",
    "df3.agg(corr(\"df\", \"df2\").alias(\"corr\")).collect()"
   ]
  },
  {
   "cell_type": "markdown",
   "id": "c53de862-92a8-4e37-86a9-2e6e62ef7f1c",
   "metadata": {},
   "source": [
    "## Part 4"
   ]
  },
  {
   "cell_type": "code",
   "execution_count": 18,
   "id": "385beb1e-cd07-4b42-aab3-eddaadbc66c9",
   "metadata": {},
   "outputs": [
    {
     "name": "stderr",
     "output_type": "stream",
     "text": [
      "23/05/19 22:45:57 WARN ChannelPool: [s0|project-5-kc-db-1/172.19.0.4:9042]  Error while opening new channel (ConnectionInitException: [s0|connecting...] Protocol initialization request, step 1 (STARTUP {CQL_VERSION=3.0.0, DRIVER_NAME=DataStax Java driver for Apache Cassandra(R), DRIVER_VERSION=4.13.0, CLIENT_ID=96e8fd71-ba3c-4b13-9e64-316753891b49, APPLICATION_NAME=Spark-Cassandra-Connector-local-1684535405983}): failed to send request (java.nio.channels.NotYetConnectedException))\n"
     ]
    },
    {
     "data": {
      "text/plain": [
       "error: \"No temperature data found for station\""
      ]
     },
     "execution_count": 18,
     "metadata": {},
     "output_type": "execute_result"
    },
    {
     "name": "stderr",
     "output_type": "stream",
     "text": [
      "23/05/19 22:46:04 WARN ChannelPool: [s0|project-5-kc-db-1/172.19.0.4:9042]  Error while opening new channel (ConnectionInitException: [s0|connecting...] Protocol initialization request, step 1 (STARTUP {CQL_VERSION=3.0.0, DRIVER_NAME=DataStax Java driver for Apache Cassandra(R), DRIVER_VERSION=4.13.0, CLIENT_ID=96e8fd71-ba3c-4b13-9e64-316753891b49, APPLICATION_NAME=Spark-Cassandra-Connector-local-1684535405983}): failed to send request (java.nio.channels.NotYetConnectedException))\n"
     ]
    }
   ],
   "source": [
    "#q5 \n",
    "stub.StationMax(station_pb2.StationMaxRequest(station=\"USW00014837\"))\n",
    "\n",
    "#jupyter on db-2, server on db-3, so I killed db-1\n",
    "#No it doesn't work since there are only 2 container running but in the server we specified that the consistency level for StationMax is 3"
   ]
  },
  {
   "cell_type": "code",
   "execution_count": 27,
   "id": "936f5678-643c-4e55-903a-f37567658217",
   "metadata": {},
   "outputs": [
    {
     "name": "stdout",
     "output_type": "stream",
     "text": [
      "None\n"
     ]
    }
   ],
   "source": [
    "#q6\n",
    "print( simulate_sensor(\"USC00477115\") )\n",
    "\n",
    "#This sometimes sucessfully runs because it only needs 1 container to run since the the consistency level was specified as 1"
   ]
  },
  {
   "cell_type": "code",
   "execution_count": 20,
   "id": "91af6f96-8dc4-455b-9d16-1a46e321c515",
   "metadata": {},
   "outputs": [
    {
     "data": {
      "text/plain": [
       "1460"
      ]
     },
     "execution_count": 20,
     "metadata": {},
     "output_type": "execute_result"
    }
   ],
   "source": [
    "#q7\n",
    "numberofRows = spark.sql(\"\"\"\n",
    "SELECT COUNT(record)\n",
    "FROM weather2022\n",
    "\"\"\").toPandas()\n",
    "\n",
    "count1 = numberofRows.at[0, \"count(record)\"]\n",
    "count1"
   ]
  },
  {
   "cell_type": "code",
   "execution_count": 26,
   "id": "fcf2b2e0-8080-44b3-b864-d4ada9062cbc",
   "metadata": {},
   "outputs": [
    {
     "name": "stderr",
     "output_type": "stream",
     "text": [
      "[Stage 13:=============================>                            (3 + 2) / 6]\r"
     ]
    },
    {
     "name": "stdout",
     "output_type": "stream",
     "text": [
      "BEFORE REFRESH: 1460\n",
      "AFTER REFRESH: 1825\n"
     ]
    },
    {
     "name": "stderr",
     "output_type": "stream",
     "text": [
      "                                                                                \r"
     ]
    }
   ],
   "source": [
    "spark.sql(\"REFRESH TABLE weather2022\")\n",
    "simulate_sensor(\"USC00477115\")\n",
    "\n",
    "numberofRows2 = spark.sql(\"\"\"\n",
    "SELECT COUNT(record) FROM weather2022\n",
    "\"\"\").toPandas()\n",
    "\n",
    "count2 = numberofRows2.at[0, \"count(record)\"]\n",
    "\n",
    "print(\"BEFORE REFRESH: \" + str(count1))\n",
    "print(\"AFTER REFRESH: \" + str(count2))"
   ]
  },
  {
   "cell_type": "code",
   "execution_count": null,
   "id": "f61ee1e0-b735-43a8-b4fc-6bff6a9c3535",
   "metadata": {},
   "outputs": [],
   "source": []
  }
 ],
 "metadata": {
  "kernelspec": {
   "display_name": "Python 3 (ipykernel)",
   "language": "python",
   "name": "python3"
  },
  "language_info": {
   "codemirror_mode": {
    "name": "ipython",
    "version": 3
   },
   "file_extension": ".py",
   "mimetype": "text/x-python",
   "name": "python",
   "nbconvert_exporter": "python",
   "pygments_lexer": "ipython3",
   "version": "3.10.6"
  }
 },
 "nbformat": 4,
 "nbformat_minor": 5
}
