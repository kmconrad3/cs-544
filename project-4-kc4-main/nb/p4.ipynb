{
 "cells": [
  {
   "cell_type": "markdown",
   "id": "a11eeda1-798b-426c-bda9-7dd5fd8414b2",
   "metadata": {},
   "source": [
    "# Part 1"
   ]
  },
  {
   "cell_type": "code",
   "execution_count": 1,
   "id": "9de8fa38-a750-416b-b927-d027d315a45a",
   "metadata": {},
   "outputs": [
    {
     "name": "stderr",
     "output_type": "stream",
     "text": [
      "Using Spark's default log4j profile: org/apache/spark/log4j-defaults.properties\n",
      "Setting default log level to \"WARN\".\n",
      "To adjust logging level use sc.setLogLevel(newLevel). For SparkR, use setLogLevel(newLevel).\n",
      "23/04/10 17:55:17 WARN NativeCodeLoader: Unable to load native-hadoop library for your platform... using builtin-java classes where applicable\n"
     ]
    }
   ],
   "source": [
    "from pyspark.sql import SparkSession\n",
    "spark = (SparkSession.builder.appName(\"cs544\")\n",
    "         .master(\"spark://main:7077\")\n",
    "         .config(\"spark.executor.memory\", \"512M\")\n",
    "         .config(\"spark.sql.warehouse.dir\", \"hdfs://main:9000/user/hive/warehouse\")\n",
    "         .enableHiveSupport()\n",
    "         .getOrCreate())\n",
    "\n",
    "from pyspark.sql.functions import col, expr, row_number, upper\n",
    "from pyspark.sql.window import Window\n",
    "import os"
   ]
  },
  {
   "cell_type": "code",
   "execution_count": 2,
   "id": "21be78b7-62c9-43e3-aae9-d0498d7a4094",
   "metadata": {},
   "outputs": [],
   "source": [
    "if not os.path.exists('arid2017_to_lei_xref_csv.csv'):\n",
    "    !wget -nc https://pages.cs.wisc.edu/~harter/cs639/data/arid2017_to_lei_xref_csv.zip\n",
    "    !unzip arid2017_to_lei_xref_csv.zip"
   ]
  },
  {
   "cell_type": "code",
   "execution_count": 3,
   "id": "04a171c2-3500-45dc-ad34-d34da53c2d19",
   "metadata": {},
   "outputs": [],
   "source": [
    "if not os.path.exists('action_taken.csv'):\n",
    "    !wget -nc https://pages.cs.wisc.edu/~harter/cs639/data/code_sheets.zip\n",
    "    !unzip code_sheets.zip"
   ]
  },
  {
   "cell_type": "code",
   "execution_count": 4,
   "id": "b1ef53ee-2567-4292-9f24-54591401e477",
   "metadata": {},
   "outputs": [],
   "source": [
    "if not os.path.exists('hdma-wi-2021.csv'):\n",
    "    !wget -nc https://pages.cs.wisc.edu/~harter/cs639/data/hdma-wi-2021.zip\n",
    "    !unzip hdma-wi-2021.zip"
   ]
  },
  {
   "cell_type": "code",
   "execution_count": 5,
   "id": "5159445b-5b68-4ad8-bf8f-3dd97bdb30e2",
   "metadata": {},
   "outputs": [
    {
     "name": "stdout",
     "output_type": "stream",
     "text": [
      "cp: `hdfs://main:9000/hdma-wi-2021.csv': File exists\n"
     ]
    }
   ],
   "source": [
    "!hdfs dfs -cp hdma-wi-2021.csv hdfs://main:9000/hdma-wi-2021.csv"
   ]
  },
  {
   "cell_type": "code",
   "execution_count": 6,
   "id": "040d0742-96aa-43ff-bdc6-74dd2b4b669d",
   "metadata": {},
   "outputs": [
    {
     "name": "stdout",
     "output_type": "stream",
     "text": [
      "cp: `hdfs://main:9000/arid2017_to_lei_xref_csv.csv': File exists\n"
     ]
    }
   ],
   "source": [
    "!hdfs dfs -cp arid2017_to_lei_xref_csv.csv hdfs://main:9000/arid2017_to_lei_xref_csv.csv"
   ]
  },
  {
   "cell_type": "code",
   "execution_count": 7,
   "id": "510d2e29-ed46-435f-9c1f-e6254240b76b",
   "metadata": {},
   "outputs": [
    {
     "name": "stdout",
     "output_type": "stream",
     "text": [
      "cp: `hdfs://main:9000/code_sheets.zip': File exists\n"
     ]
    }
   ],
   "source": [
    "!hdfs dfs -cp code_sheets.zip hdfs://main:9000/code_sheets.zip"
   ]
  },
  {
   "cell_type": "code",
   "execution_count": 8,
   "id": "eb809c54-7d3c-411a-a199-ed29d034c798",
   "metadata": {},
   "outputs": [
    {
     "name": "stdout",
     "output_type": "stream",
     "text": [
      "cp: `hdfs://main:9000/action_taken.csv': File exists\n"
     ]
    }
   ],
   "source": [
    "!hdfs dfs -cp action_taken.csv hdfs://main:9000/action_taken.csv"
   ]
  },
  {
   "cell_type": "code",
   "execution_count": 9,
   "id": "3571260f-d845-4b8d-a0fc-339378a8c273",
   "metadata": {},
   "outputs": [
    {
     "name": "stdout",
     "output_type": "stream",
     "text": [
      "cp: `hdfs://main:9000/loan_purpose.csv': File exists\n"
     ]
    }
   ],
   "source": [
    "!hdfs dfs -cp loan_purpose.csv hdfs://main:9000/loan_purpose.csv"
   ]
  },
  {
   "cell_type": "code",
   "execution_count": 10,
   "id": "14dba722-981f-4b24-8b19-b74d1fbdde93",
   "metadata": {},
   "outputs": [
    {
     "name": "stdout",
     "output_type": "stream",
     "text": [
      "cp: `hdfs://main:9000/counties.csv': File exists\n"
     ]
    }
   ],
   "source": [
    "!hdfs dfs -cp counties.csv hdfs://main:9000/counties.csv"
   ]
  },
  {
   "cell_type": "code",
   "execution_count": 11,
   "id": "06ece6b2-de4d-4c30-9e7e-8acc1f387e14",
   "metadata": {},
   "outputs": [
    {
     "name": "stderr",
     "output_type": "stream",
     "text": [
      "                                                                                \r"
     ]
    }
   ],
   "source": [
    "df4 = (spark.read.format(\"csv\")\n",
    "    .option(\"header\", True)\n",
    "    .option(\"inferSchema\", True)\n",
    "    .load(\"hdfs://main:9000/action_taken.csv\"))  #code_sheets.zip\"))\n",
    "    ### .write.mode(\"overwrite\")) do I need to do overwrite with this?"
   ]
  },
  {
   "cell_type": "code",
   "execution_count": 12,
   "id": "e7698936-53ae-4c01-8d2c-32c90b1800e3",
   "metadata": {},
   "outputs": [
    {
     "name": "stderr",
     "output_type": "stream",
     "text": [
      "                                                                                \r"
     ]
    }
   ],
   "source": [
    "df2 = (spark.read.format(\"csv\")\n",
    "    .option(\"header\", True)\n",
    "    .option(\"inferSchema\", True)\n",
    "    .load(\"hdfs://main:9000/loan_purpose.csv\"))"
   ]
  },
  {
   "cell_type": "code",
   "execution_count": 13,
   "id": "296b9f8b-6a07-48e2-8227-30c48b5bab07",
   "metadata": {},
   "outputs": [],
   "source": [
    "df3 = (spark.read.format(\"csv\")\n",
    "    .option(\"header\", True)\n",
    "    .option(\"inferSchema\", True)\n",
    "    .load(\"hdfs://main:9000/counties.csv\"))"
   ]
  },
  {
   "cell_type": "code",
   "execution_count": 14,
   "id": "bc2e1811-7d65-4e69-b8f6-4be276544d74",
   "metadata": {},
   "outputs": [],
   "source": [
    "df = (spark.read.format(\"csv\")\n",
    "    .option(\"header\", True)\n",
    "    .option(\"inferSchema\", True)\n",
    "    .load(\"hdfs://main:9000/code_sheets.zip\"))"
   ]
  },
  {
   "cell_type": "code",
   "execution_count": 15,
   "id": "da1364ca-d7b1-4cd8-a5e3-a3d041f2dee3",
   "metadata": {},
   "outputs": [],
   "source": [
    "#temp views\n",
    "df.createOrReplaceTempView(\"race\")\n",
    "df.createOrReplaceTempView(\"sex\")\n",
    "df.createOrReplaceTempView(\"ethnicity\")\n",
    "df.createOrReplaceTempView(\"states\")\n",
    "df3.createOrReplaceTempView(\"counties\")\n",
    "df.createOrReplaceTempView(\"tracts\")\n",
    "df4.createOrReplaceTempView(\"action_taken\")\n",
    "df.createOrReplaceTempView(\"denial_reason\")\n",
    "df.createOrReplaceTempView(\"loan_type\")\n",
    "df2.createOrReplaceTempView(\"loan_purpose\")\n",
    "df.createOrReplaceTempView(\"preapproval\")\n",
    "df.createOrReplaceTempView(\"property_type\")"
   ]
  },
  {
   "cell_type": "code",
   "execution_count": 16,
   "id": "24e661a4-ecb7-4b87-83ac-a71e8d57d0d5",
   "metadata": {},
   "outputs": [
    {
     "name": "stderr",
     "output_type": "stream",
     "text": [
      "23/04/10 17:56:10 WARN HiveConf: HiveConf of name hive.stats.jdbc.timeout does not exist\n",
      "23/04/10 17:56:10 WARN HiveConf: HiveConf of name hive.stats.retries.wait does not exist\n",
      "23/04/10 17:56:14 WARN ObjectStore: Version information not found in metastore. hive.metastore.schema.verification is not enabled so recording the schema version 2.3.0\n",
      "23/04/10 17:56:14 WARN ObjectStore: setMetaStoreSchemaVersion called but recording version is disabled: version = 2.3.0, comment = Set by MetaStore UNKNOWN@172.18.0.3\n",
      "23/04/10 17:56:15 WARN ObjectStore: Failed to get database global_temp, returning NoSuchObjectException\n",
      "23/04/10 17:56:25 WARN package: Truncated the string representation of a plan since it was too large. This behavior can be adjusted by setting 'spark.sql.debug.maxToStringFields'.\n",
      "23/04/10 17:56:54 WARN SessionState: METASTORE_FILTER_HOOK will be ignored, since hive.security.authorization.manager is set to instance of HiveAuthorizerFactory.\n",
      "23/04/10 17:56:54 WARN HiveConf: HiveConf of name hive.internal.ss.authz.settings.applied.marker does not exist\n",
      "23/04/10 17:56:54 WARN HiveConf: HiveConf of name hive.stats.jdbc.timeout does not exist\n",
      "23/04/10 17:56:54 WARN HiveConf: HiveConf of name hive.stats.retries.wait does not exist\n"
     ]
    }
   ],
   "source": [
    "spark.sql(\"DROP TABLE IF EXISTS loans\")\n",
    "spark.read.csv(f\"hdfs://main:9000/hdma-wi-2021.csv\", header=True, inferSchema=True).write.bucketBy(8, \"county_code\").mode(\"overwrite\").saveAsTable(\"loans\", mode=\"overwrite\")"
   ]
  },
  {
   "cell_type": "code",
   "execution_count": 17,
   "id": "a1657ea5-6052-49c9-a430-2b503d9c490a",
   "metadata": {},
   "outputs": [
    {
     "name": "stderr",
     "output_type": "stream",
     "text": [
      "                                                                                \r"
     ]
    }
   ],
   "source": [
    "spark.sql(\"DROP TABLE IF EXISTS banks\")\n",
    "spark.read.csv(f\"hdfs://main:9000/arid2017_to_lei_xref_csv.csv\", header=True, inferSchema=True).write.mode(\"overwrite\").saveAsTable(\"banks\", mode=\"overwrite\")"
   ]
  },
  {
   "cell_type": "code",
   "execution_count": 18,
   "id": "baabd65e-bee3-46dc-95ae-2edbe8ef8e48",
   "metadata": {},
   "outputs": [
    {
     "name": "stdout",
     "output_type": "stream",
     "text": [
      "+---------+-------------+-----------+\n",
      "|namespace|    tableName|isTemporary|\n",
      "+---------+-------------+-----------+\n",
      "|  default|        banks|      false|\n",
      "|  default|        loans|      false|\n",
      "|         | action_taken|       true|\n",
      "|         |     counties|       true|\n",
      "|         |denial_reason|       true|\n",
      "|         |    ethnicity|       true|\n",
      "|         | loan_purpose|       true|\n",
      "|         |    loan_type|       true|\n",
      "|         |  preapproval|       true|\n",
      "|         |property_type|       true|\n",
      "|         |         race|       true|\n",
      "|         |          sex|       true|\n",
      "|         |       states|       true|\n",
      "|         |       tracts|       true|\n",
      "+---------+-------------+-----------+\n",
      "\n"
     ]
    }
   ],
   "source": [
    "#q1\n",
    "spark.sql(\"SHOW TABLES\").show()"
   ]
  },
  {
   "cell_type": "markdown",
   "id": "a43d35e1-7c17-49a9-bd45-9f5d072deddf",
   "metadata": {},
   "source": [
    "# Part 2"
   ]
  },
  {
   "cell_type": "code",
   "execution_count": 19,
   "id": "4b2fb9f9-2e5c-4f39-a32b-5eaf8fadf9f9",
   "metadata": {},
   "outputs": [
    {
     "name": "stdout",
     "output_type": "stream",
     "text": [
      "Starting with first: 379\n",
      "+---------------+---------+--------+--------+--------+\n",
      "|respondent_name|arid_2017|lei_2018|lei_2019|lei_2020|\n",
      "+---------------+---------+--------+--------+--------+\n",
      "+---------------+---------+--------+--------+--------+\n",
      "\n"
     ]
    }
   ],
   "source": [
    "#q2\n",
    "from pyspark.sql.functions import lower\n",
    "\n",
    "print(\"Starting with first:\", spark.table(\"banks\").where(lower(col(\"respondent_name\")).startswith(\"first\")).count() )\n",
    "\n",
    "spark.table(\"banks\").where(lower(col(\"respondent_name\")).startswith(\"second\")).show() #0 staring with second"
   ]
  },
  {
   "cell_type": "code",
   "execution_count": 20,
   "id": "f675ea18-a642-4d1a-8e6e-afc6c8a89c16",
   "metadata": {},
   "outputs": [
    {
     "name": "stderr",
     "output_type": "stream",
     "text": [
      "                                                                                \r"
     ]
    },
    {
     "data": {
      "text/plain": [
       "849"
      ]
     },
     "execution_count": 20,
     "metadata": {},
     "output_type": "execute_result"
    }
   ],
   "source": [
    "#q3 favorite bank: \"The Bank of New Glarus\"\n",
    "results = spark.sql(\"\"\"\n",
    "SELECT*\n",
    "FROM banks\n",
    "INNER JOIN loans\n",
    "ON banks.lei_2020 = loans.lei\n",
    "    OR banks.lei_2019 = loans.lei\n",
    "    OR banks.lei_2018 = loans.lei \n",
    "WHERE respondent_name = \"The Bank of New Glarus\"\n",
    "\"\"\")\n",
    "results.count()"
   ]
  },
  {
   "cell_type": "code",
   "execution_count": 21,
   "id": "97ebee9b-bc90-44d5-a774-1644e628c77a",
   "metadata": {},
   "outputs": [
    {
     "name": "stdout",
     "output_type": "stream",
     "text": [
      "== Physical Plan ==\n",
      "AdaptiveSparkPlan (6)\n",
      "+- BroadcastNestedLoopJoin Inner BuildLeft (5)\n",
      "   :- BroadcastExchange (3)\n",
      "   :  +- Filter (2)\n",
      "   :     +- Scan parquet default.banks (1)\n",
      "   +- Scan parquet default.loans (4)\n",
      "\n",
      "\n",
      "(1) Scan parquet default.banks\n",
      "Output [5]: [respondent_name#871, arid_2017#872, lei_2018#873, lei_2019#874, lei_2020#875]\n",
      "Batched: true\n",
      "Location: InMemoryFileIndex [hdfs://main:9000/user/hive/warehouse/banks]\n",
      "PushedFilters: [IsNotNull(respondent_name), EqualTo(respondent_name,The Bank of New Glarus)]\n",
      "ReadSchema: struct<respondent_name:string,arid_2017:string,lei_2018:string,lei_2019:string,lei_2020:string>\n",
      "\n",
      "(2) Filter\n",
      "Input [5]: [respondent_name#871, arid_2017#872, lei_2018#873, lei_2019#874, lei_2020#875]\n",
      "Condition : (isnotnull(respondent_name#871) AND (respondent_name#871 = The Bank of New Glarus))\n",
      "\n",
      "(3) BroadcastExchange\n",
      "Input [5]: [respondent_name#871, arid_2017#872, lei_2018#873, lei_2019#874, lei_2020#875]\n",
      "Arguments: IdentityBroadcastMode, [plan_id=398]\n",
      "\n",
      "(4) Scan parquet default.loans\n",
      "Output [99]: [activity_year#917, lei#918, derived_msa-md#919, state_code#920, county_code#921, census_tract#922, conforming_loan_limit#923, derived_loan_product_type#924, derived_dwelling_category#925, derived_ethnicity#926, derived_race#927, derived_sex#928, action_taken#929, purchaser_type#930, preapproval#931, loan_type#932, loan_purpose#933, lien_status#934, reverse_mortgage#935, open-end_line_of_credit#936, business_or_commercial_purpose#937, loan_amount#938, loan_to_value_ratio#939, interest_rate#940, rate_spread#941, hoepa_status#942, total_loan_costs#943, total_points_and_fees#944, origination_charges#945, discount_points#946, lender_credits#947, loan_term#948, prepayment_penalty_term#949, intro_rate_period#950, negative_amortization#951, interest_only_payment#952, balloon_payment#953, other_nonamortizing_features#954, property_value#955, construction_method#956, occupancy_type#957, manufactured_home_secured_property_type#958, manufactured_home_land_property_interest#959, total_units#960, multifamily_affordable_units#961, income#962, debt_to_income_ratio#963, applicant_credit_score_type#964, co-applicant_credit_score_type#965, applicant_ethnicity-1#966, applicant_ethnicity-2#967, applicant_ethnicity-3#968, applicant_ethnicity-4#969, applicant_ethnicity-5#970, co-applicant_ethnicity-1#971, co-applicant_ethnicity-2#972, co-applicant_ethnicity-3#973, co-applicant_ethnicity-4#974, co-applicant_ethnicity-5#975, applicant_ethnicity_observed#976, co-applicant_ethnicity_observed#977, applicant_race-1#978, applicant_race-2#979, applicant_race-3#980, applicant_race-4#981, applicant_race-5#982, co-applicant_race-1#983, co-applicant_race-2#984, co-applicant_race-3#985, co-applicant_race-4#986, co-applicant_race-5#987, applicant_race_observed#988, co-applicant_race_observed#989, applicant_sex#990, co-applicant_sex#991, applicant_sex_observed#992, co-applicant_sex_observed#993, applicant_age#994, co-applicant_age#995, applicant_age_above_62#996, co-applicant_age_above_62#997, submission_of_application#998, initially_payable_to_institution#999, aus-1#1000, aus-2#1001, aus-3#1002, aus-4#1003, aus-5#1004, denial_reason-1#1005, denial_reason-2#1006, denial_reason-3#1007, denial_reason-4#1008, tract_population#1009, tract_minority_population_percent#1010, ffiec_msa_md_median_family_income#1011, tract_to_msa_income_percentage#1012, tract_owner_occupied_units#1013, tract_one_to_four_family_homes#1014, tract_median_age_of_housing_units#1015]\n",
      "Batched: true\n",
      "Location: InMemoryFileIndex [hdfs://main:9000/user/hive/warehouse/loans]\n",
      "ReadSchema: struct<activity_year:int,lei:string,derived_msa-md:int,state_code:string,county_code:string,census_tract:string,conforming_loan_limit:string,derived_loan_product_type:string,derived_dwelling_category:string,derived_ethnicity:string,derived_race:string,derived_sex:string,action_taken:int,purchaser_type:int,preapproval:int,loan_type:int,loan_purpose:int,lien_status:int,reverse_mortgage:int,open-end_line_of_credit:int,business_or_commercial_purpose:int,loan_amount:double,loan_to_value_ratio:string,interest_rate:string,rate_spread:string,hoepa_status:int,total_loan_costs:string,total_points_and_fees:string,origination_charges:string,discount_points:string,lender_credits:string,loan_term:string,prepayment_penalty_term:string,intro_rate_period:string,negative_amortization:int,interest_only_payment:int,balloon_payment:int,other_nonamortizing_features:int,property_value:string,construction_method:int,occupancy_type:int,manufactured_home_secured_property_type:int,manufactured_home_land_property_interest:int,total_units:string,multifamily_affordable_units:string,income:string,debt_to_income_ratio:string,applicant_credit_score_type:int,co-applicant_credit_score_type:int,applicant_ethnicity-1:int,applicant_ethnicity-2:int,applicant_ethnicity-3:int,applicant_ethnicity-4:int,applicant_ethnicity-5:int,co-applicant_ethnicity-1:int,co-applicant_ethnicity-2:int,co-applicant_ethnicity-3:int,co-applicant_ethnicity-4:int,co-applicant_ethnicity-5:string,applicant_ethnicity_observed:int,co-applicant_ethnicity_observed:int,applicant_race-1:int,applicant_race-2:int,applicant_race-3:int,applicant_race-4:int,applicant_race-5:int,co-applicant_race-1:int,co-applicant_race-2:int,co-applicant_race-3:int,co-applicant_race-4:int,co-applicant_race-5:int,applicant_race_observed:int,co-applicant_race_observed:int,applicant_sex:int,co-applicant_sex:int,applicant_sex_observed:int,co-applicant_sex_observed:int,applicant_age:string,co-applicant_age:string,applicant_age_above_62:string,co-applicant_age_above_62:string,submission_of_application:int,initially_payable_to_institution:int,aus-1:int,aus-2:int,aus-3:int,aus-4:int,aus-5:int,denial_reason-1:int,denial_reason-2:int,denial_reason-3:int,denial_reason-4:int,tract_population:int,tract_minority_population_percent:double,ffiec_msa_md_median_family_income:int,tract_to_msa_income_percentage:int,tract_owner_occupied_units:int,tract_one_to_four_family_homes:int,tract_median_age_of_housing_units:int>\n",
      "\n",
      "(5) BroadcastNestedLoopJoin\n",
      "Join condition: (((lei_2020#875 = lei#918) OR (lei_2019#874 = lei#918)) OR (lei_2018#873 = lei#918))\n",
      "\n",
      "(6) AdaptiveSparkPlan\n",
      "Output [104]: [respondent_name#871, arid_2017#872, lei_2018#873, lei_2019#874, lei_2020#875, activity_year#917, lei#918, derived_msa-md#919, state_code#920, county_code#921, census_tract#922, conforming_loan_limit#923, derived_loan_product_type#924, derived_dwelling_category#925, derived_ethnicity#926, derived_race#927, derived_sex#928, action_taken#929, purchaser_type#930, preapproval#931, loan_type#932, loan_purpose#933, lien_status#934, reverse_mortgage#935, open-end_line_of_credit#936, business_or_commercial_purpose#937, loan_amount#938, loan_to_value_ratio#939, interest_rate#940, rate_spread#941, hoepa_status#942, total_loan_costs#943, total_points_and_fees#944, origination_charges#945, discount_points#946, lender_credits#947, loan_term#948, prepayment_penalty_term#949, intro_rate_period#950, negative_amortization#951, interest_only_payment#952, balloon_payment#953, other_nonamortizing_features#954, property_value#955, construction_method#956, occupancy_type#957, manufactured_home_secured_property_type#958, manufactured_home_land_property_interest#959, total_units#960, multifamily_affordable_units#961, income#962, debt_to_income_ratio#963, applicant_credit_score_type#964, co-applicant_credit_score_type#965, applicant_ethnicity-1#966, applicant_ethnicity-2#967, applicant_ethnicity-3#968, applicant_ethnicity-4#969, applicant_ethnicity-5#970, co-applicant_ethnicity-1#971, co-applicant_ethnicity-2#972, co-applicant_ethnicity-3#973, co-applicant_ethnicity-4#974, co-applicant_ethnicity-5#975, applicant_ethnicity_observed#976, co-applicant_ethnicity_observed#977, applicant_race-1#978, applicant_race-2#979, applicant_race-3#980, applicant_race-4#981, applicant_race-5#982, co-applicant_race-1#983, co-applicant_race-2#984, co-applicant_race-3#985, co-applicant_race-4#986, co-applicant_race-5#987, applicant_race_observed#988, co-applicant_race_observed#989, applicant_sex#990, co-applicant_sex#991, applicant_sex_observed#992, co-applicant_sex_observed#993, applicant_age#994, co-applicant_age#995, applicant_age_above_62#996, co-applicant_age_above_62#997, submission_of_application#998, initially_payable_to_institution#999, aus-1#1000, aus-2#1001, aus-3#1002, aus-4#1003, aus-5#1004, denial_reason-1#1005, denial_reason-2#1006, denial_reason-3#1007, denial_reason-4#1008, tract_population#1009, tract_minority_population_percent#1010, ffiec_msa_md_median_family_income#1011, tract_to_msa_income_percentage#1012, tract_owner_occupied_units#1013, tract_one_to_four_family_homes#1014, tract_median_age_of_housing_units#1015]\n",
      "Arguments: isFinalPlan=false\n",
      "\n",
      "\n"
     ]
    }
   ],
   "source": [
    "#q4\n",
    "results.explain(\"formatted\")\n",
    "#1) The banks table is sent to every executor.\n",
    "#2) \"is not null\" is used on the banks table, respondent_name column.\n",
    "#3) No my queries plan does not."
   ]
  },
  {
   "cell_type": "code",
   "execution_count": 22,
   "id": "42eea78e-b03a-417a-b77c-a7582649573c",
   "metadata": {},
   "outputs": [
    {
     "name": "stderr",
     "output_type": "stream",
     "text": [
      "                                                                                \r"
     ]
    },
    {
     "data": {
      "text/html": [
       "<div>\n",
       "<style scoped>\n",
       "    .dataframe tbody tr th:only-of-type {\n",
       "        vertical-align: middle;\n",
       "    }\n",
       "\n",
       "    .dataframe tbody tr th {\n",
       "        vertical-align: top;\n",
       "    }\n",
       "\n",
       "    .dataframe thead th {\n",
       "        text-align: right;\n",
       "    }\n",
       "</style>\n",
       "<table border=\"1\" class=\"dataframe\">\n",
       "  <thead>\n",
       "    <tr style=\"text-align: right;\">\n",
       "      <th></th>\n",
       "      <th>census_tract</th>\n",
       "      <th>county</th>\n",
       "      <th>loan_purpose</th>\n",
       "      <th>derived_dwelling_category</th>\n",
       "      <th>thousands</th>\n",
       "      <th>interest_rate</th>\n",
       "      <th>years</th>\n",
       "      <th>action_taken</th>\n",
       "    </tr>\n",
       "  </thead>\n",
       "  <tbody>\n",
       "    <tr>\n",
       "      <th>0</th>\n",
       "      <td>55045960700</td>\n",
       "      <td>Green</td>\n",
       "      <td>None</td>\n",
       "      <td>Single Family (1-4 Units):Site-Built</td>\n",
       "      <td>1635.0</td>\n",
       "      <td>4.39</td>\n",
       "      <td>5.0</td>\n",
       "      <td>Loan originated</td>\n",
       "    </tr>\n",
       "    <tr>\n",
       "      <th>1</th>\n",
       "      <td>55045960400</td>\n",
       "      <td>Green</td>\n",
       "      <td>Home purchase</td>\n",
       "      <td>Single Family (1-4 Units):Site-Built</td>\n",
       "      <td>1335.0</td>\n",
       "      <td>4.99</td>\n",
       "      <td>1.5</td>\n",
       "      <td>Loan originated</td>\n",
       "    </tr>\n",
       "    <tr>\n",
       "      <th>2</th>\n",
       "      <td>55045960200</td>\n",
       "      <td>Green</td>\n",
       "      <td>None</td>\n",
       "      <td>Single Family (1-4 Units):Site-Built</td>\n",
       "      <td>1015.0</td>\n",
       "      <td>3.75</td>\n",
       "      <td>10.0</td>\n",
       "      <td>Loan originated</td>\n",
       "    </tr>\n",
       "    <tr>\n",
       "      <th>3</th>\n",
       "      <td>55025010904</td>\n",
       "      <td>Dane</td>\n",
       "      <td>Home purchase</td>\n",
       "      <td>Single Family (1-4 Units):Site-Built</td>\n",
       "      <td>965.0</td>\n",
       "      <td>3.0</td>\n",
       "      <td>30.0</td>\n",
       "      <td>Loan originated</td>\n",
       "    </tr>\n",
       "    <tr>\n",
       "      <th>4</th>\n",
       "      <td>55025001705</td>\n",
       "      <td>Dane</td>\n",
       "      <td>Home purchase</td>\n",
       "      <td>Single Family (1-4 Units):Site-Built</td>\n",
       "      <td>715.0</td>\n",
       "      <td>3.5</td>\n",
       "      <td>5.0</td>\n",
       "      <td>Loan originated</td>\n",
       "    </tr>\n",
       "    <tr>\n",
       "      <th>5</th>\n",
       "      <td>55021971000</td>\n",
       "      <td>Columbia</td>\n",
       "      <td>None</td>\n",
       "      <td>Single Family (1-4 Units):Site-Built</td>\n",
       "      <td>545.0</td>\n",
       "      <td>2.5</td>\n",
       "      <td>15.0</td>\n",
       "      <td>Loan originated</td>\n",
       "    </tr>\n",
       "    <tr>\n",
       "      <th>6</th>\n",
       "      <td>55045960300</td>\n",
       "      <td>Green</td>\n",
       "      <td>None</td>\n",
       "      <td>Single Family (1-4 Units):Site-Built</td>\n",
       "      <td>545.0</td>\n",
       "      <td>3.125</td>\n",
       "      <td>30.0</td>\n",
       "      <td>Loan originated</td>\n",
       "    </tr>\n",
       "    <tr>\n",
       "      <th>7</th>\n",
       "      <td>55045960100</td>\n",
       "      <td>Green</td>\n",
       "      <td>Home purchase</td>\n",
       "      <td>Single Family (1-4 Units):Site-Built</td>\n",
       "      <td>545.0</td>\n",
       "      <td>3.5</td>\n",
       "      <td>30.0</td>\n",
       "      <td>Loan originated</td>\n",
       "    </tr>\n",
       "    <tr>\n",
       "      <th>8</th>\n",
       "      <td>55045960200</td>\n",
       "      <td>Green</td>\n",
       "      <td>Home purchase</td>\n",
       "      <td>Single Family (1-4 Units):Site-Built</td>\n",
       "      <td>545.0</td>\n",
       "      <td>2.5</td>\n",
       "      <td>30.0</td>\n",
       "      <td>Loan originated</td>\n",
       "    </tr>\n",
       "    <tr>\n",
       "      <th>9</th>\n",
       "      <td>55045960300</td>\n",
       "      <td>Green</td>\n",
       "      <td>Home purchase</td>\n",
       "      <td>Single Family (1-4 Units):Site-Built</td>\n",
       "      <td>545.0</td>\n",
       "      <td>3.25</td>\n",
       "      <td>30.0</td>\n",
       "      <td>Loan originated</td>\n",
       "    </tr>\n",
       "  </tbody>\n",
       "</table>\n",
       "</div>"
      ],
      "text/plain": [
       "  census_tract    county   loan_purpose             derived_dwelling_category   \n",
       "0  55045960700     Green           None  Single Family (1-4 Units):Site-Built  \\\n",
       "1  55045960400     Green  Home purchase  Single Family (1-4 Units):Site-Built   \n",
       "2  55045960200     Green           None  Single Family (1-4 Units):Site-Built   \n",
       "3  55025010904      Dane  Home purchase  Single Family (1-4 Units):Site-Built   \n",
       "4  55025001705      Dane  Home purchase  Single Family (1-4 Units):Site-Built   \n",
       "5  55021971000  Columbia           None  Single Family (1-4 Units):Site-Built   \n",
       "6  55045960300     Green           None  Single Family (1-4 Units):Site-Built   \n",
       "7  55045960100     Green  Home purchase  Single Family (1-4 Units):Site-Built   \n",
       "8  55045960200     Green  Home purchase  Single Family (1-4 Units):Site-Built   \n",
       "9  55045960300     Green  Home purchase  Single Family (1-4 Units):Site-Built   \n",
       "\n",
       "   thousands interest_rate  years     action_taken  \n",
       "0     1635.0          4.39    5.0  Loan originated  \n",
       "1     1335.0          4.99    1.5  Loan originated  \n",
       "2     1015.0          3.75   10.0  Loan originated  \n",
       "3      965.0           3.0   30.0  Loan originated  \n",
       "4      715.0           3.5    5.0  Loan originated  \n",
       "5      545.0           2.5   15.0  Loan originated  \n",
       "6      545.0         3.125   30.0  Loan originated  \n",
       "7      545.0           3.5   30.0  Loan originated  \n",
       "8      545.0           2.5   30.0  Loan originated  \n",
       "9      545.0          3.25   30.0  Loan originated  "
      ]
     },
     "execution_count": 22,
     "metadata": {},
     "output_type": "execute_result"
    }
   ],
   "source": [
    "#q5\n",
    "spark.sql(\"\"\"\n",
    "SELECT census_tract, county, loan_purpose.loan_purpose, derived_dwelling_category, \n",
    "ROUND(loan_amount/1000, 2) as thousands, interest_rate, (loan_term/12) as years, action_taken.action_taken\n",
    "FROM loans\n",
    "LEFT JOIN banks ON banks.lei_2020 = loans.lei\n",
    "LEFT JOIN action_taken ON loans.action_taken = action_taken.id\n",
    "LEFT JOIN loan_purpose ON loans.loan_purpose = loan_purpose.id\n",
    "LEFT JOIN (\n",
    "    SELECT DISTINCT NAME as county, CONCAT(LPAD(STATE, 2, '0'), LPAD(COUNTY, 3, '0')) as countycode\n",
    "    FROM counties ) ON county_code = countycode\n",
    "WHERE respondent_name = 'The Bank of New Glarus' AND action_taken.action_taken = \"Loan originated\"\n",
    "ORDER BY thousands DESC\n",
    "LIMIT 10\n",
    "\"\"\").toPandas()"
   ]
  },
  {
   "cell_type": "markdown",
   "id": "0fb6bab0-8cc4-472a-b81d-86e4778e7605",
   "metadata": {},
   "source": [
    "# Part 3"
   ]
  },
  {
   "cell_type": "code",
   "execution_count": 23,
   "id": "06cb3383-b942-4efd-99a9-e44dceec5911",
   "metadata": {},
   "outputs": [
    {
     "name": "stdout",
     "output_type": "stream",
     "text": [
      "== Physical Plan ==\n",
      "AdaptiveSparkPlan (4)\n",
      "+- HashAggregate (3)\n",
      "   +- HashAggregate (2)\n",
      "      +- Scan parquet default.loans (1)\n",
      "\n",
      "\n",
      "(1) Scan parquet default.loans\n",
      "Output [2]: [county_code#921, loan_amount#938]\n",
      "Batched: true\n",
      "Location: InMemoryFileIndex [hdfs://main:9000/user/hive/warehouse/loans]\n",
      "ReadSchema: struct<county_code:string,loan_amount:double>\n",
      "SelectedBucketsCount: 8 out of 8\n",
      "\n",
      "(2) HashAggregate\n",
      "Input [2]: [county_code#921, loan_amount#938]\n",
      "Keys [1]: [county_code#921]\n",
      "Functions [1]: [partial_avg(loan_amount#938)]\n",
      "Aggregate Attributes [2]: [sum#1252, count#1253L]\n",
      "Results [3]: [county_code#921, sum#1254, count#1255L]\n",
      "\n",
      "(3) HashAggregate\n",
      "Input [3]: [county_code#921, sum#1254, count#1255L]\n",
      "Keys [1]: [county_code#921]\n",
      "Functions [1]: [avg(loan_amount#938)]\n",
      "Aggregate Attributes [1]: [avg(loan_amount#938)#1248]\n",
      "Results [2]: [county_code#921, avg(loan_amount#938)#1248 AS avg(loan_amount)#1249]\n",
      "\n",
      "(4) AdaptiveSparkPlan\n",
      "Output [2]: [county_code#921, avg(loan_amount)#1249]\n",
      "Arguments: isFinalPlan=false\n",
      "\n",
      "\n"
     ]
    }
   ],
   "source": [
    "#q6\n",
    "# partial means need to be sent over the network to a central node that performs\n",
    "# the final mean operation, which requires a network transfer (network I/O). \n",
    "# I used HDFS a distributed file system's, where the tables are stored in a distributed \n",
    "# style across multiple nodes, so for certain queries the data needed for is not stored \n",
    "# on the same node where the query is going to be executed.\n",
    "\n",
    "# no network change in this query.\n",
    "u1 = spark.sql(\"\"\"\n",
    "SELECT county_code, AVG(loan_amount)\n",
    "FROM loans\n",
    "GROUP BY county_code\"\"\")\n",
    "\n",
    "u1.explain(\"formatted\")"
   ]
  },
  {
   "cell_type": "code",
   "execution_count": 24,
   "id": "8d3be606-ad11-4f4f-b636-0b07eb516260",
   "metadata": {},
   "outputs": [
    {
     "name": "stdout",
     "output_type": "stream",
     "text": [
      "== Physical Plan ==\n",
      "AdaptiveSparkPlan (5)\n",
      "+- HashAggregate (4)\n",
      "   +- Exchange (3)\n",
      "      +- HashAggregate (2)\n",
      "         +- Scan parquet default.loans (1)\n",
      "\n",
      "\n",
      "(1) Scan parquet default.loans\n",
      "Output [2]: [lei#918, loan_amount#938]\n",
      "Batched: true\n",
      "Location: InMemoryFileIndex [hdfs://main:9000/user/hive/warehouse/loans]\n",
      "ReadSchema: struct<lei:string,loan_amount:double>\n",
      "\n",
      "(2) HashAggregate\n",
      "Input [2]: [lei#918, loan_amount#938]\n",
      "Keys [1]: [lei#918]\n",
      "Functions [1]: [partial_avg(loan_amount#938)]\n",
      "Aggregate Attributes [2]: [sum#1260, count#1261L]\n",
      "Results [3]: [lei#918, sum#1262, count#1263L]\n",
      "\n",
      "(3) Exchange\n",
      "Input [3]: [lei#918, sum#1262, count#1263L]\n",
      "Arguments: hashpartitioning(lei#918, 200), ENSURE_REQUIREMENTS, [plan_id=991]\n",
      "\n",
      "(4) HashAggregate\n",
      "Input [3]: [lei#918, sum#1262, count#1263L]\n",
      "Keys [1]: [lei#918]\n",
      "Functions [1]: [avg(loan_amount#938)]\n",
      "Aggregate Attributes [1]: [avg(loan_amount#938)#1256]\n",
      "Results [2]: [lei#918, avg(loan_amount#938)#1256 AS avg(loan_amount)#1257]\n",
      "\n",
      "(5) AdaptiveSparkPlan\n",
      "Output [2]: [lei#918, avg(loan_amount)#1257]\n",
      "Arguments: isFinalPlan=false\n",
      "\n",
      "\n"
     ]
    }
   ],
   "source": [
    "# a network changed is used in this query, this is indicated by the Exchange step \n",
    "# where hashpartitioning is taking place.\n",
    "u2 = spark.sql(\"\"\"\n",
    "SELECT lei, AVG(loan_amount)\n",
    "FROM loans\n",
    "GROUP BY lei\"\"\")\n",
    "\n",
    "u2.explain(\"formatted\")\n",
    "#u2.exchange(\"formatted\")"
   ]
  },
  {
   "cell_type": "code",
   "execution_count": 25,
   "id": "fed172d1-7cd5-4795-8ee3-cfd848ea9bd0",
   "metadata": {},
   "outputs": [
    {
     "name": "stderr",
     "output_type": "stream",
     "text": [
      "                                                                                \r"
     ]
    },
    {
     "data": {
      "image/png": "[encoded data removed]",
      "text/plain": [
       "<Figure size 640x480 with 1 Axes>"
      ]
     },
     "metadata": {},
     "output_type": "display_data"
    }
   ],
   "source": [
    "#q7\n",
    "import matplotlib.pyplot as plt\n",
    "\n",
    "well = spark.sql(\"\"\"\n",
    "SELECT county, AVG(loans.interest_rate) as avg_interest_rate\n",
    "FROM loans\n",
    "LEFT JOIN banks ON banks.lei_2020 = loans.lei\n",
    "LEFT JOIN (\n",
    "    SELECT DISTINCT NAME as county, CONCAT(LPAD(STATE, 2, '0'), LPAD(COUNTY, 3, '0')) as countycode\n",
    "    FROM counties ) ON county_code = countycode\n",
    "WHERE banks.respondent_name =  \"Wells Fargo Bank, National Association\"\n",
    "GROUP BY county\n",
    "ORDER BY COUNT(*) DESC\n",
    "LIMIT 10\n",
    "\"\"\").toPandas()\n",
    "\n",
    "plt.bar(well.county, height = well.avg_interest_rate)\n",
    "plt.xlabel(\"counties\")\n",
    "plt.ylabel(\"Average interest rate\")\n",
    "plt.xticks(rotation=90);"
   ]
  },
  {
   "cell_type": "code",
   "execution_count": 26,
   "id": "1567f733-9f12-4133-abe2-6511497f8d80",
   "metadata": {},
   "outputs": [
    {
     "name": "stderr",
     "output_type": "stream",
     "text": [
      "                                                                                \r"
     ]
    },
    {
     "data": {
      "image/png": "[encoded data removed]",
      "text/plain": [
       "<Figure size 640x480 with 1 Axes>"
      ]
     },
     "metadata": {},
     "output_type": "display_data"
    }
   ],
   "source": [
    "#q8\n",
    "sec = spark.sql(\"\"\"\n",
    "SELECT county, ROUND(loan_amount/1000000, 2) as mil\n",
    "FROM (\n",
    "    SELECT county, loan_amount,\n",
    "        ROW_NUMBER() OVER (PARTITION BY county ORDER BY loan_amount DESC) as rank\n",
    "    FROM loans\n",
    "    LEFT JOIN banks ON banks.lei_2020 = loans.lei\n",
    "    INNER JOIN (\n",
    "        SELECT DISTINCT NAME as county, CONCAT(LPAD(STATE, 2, '0'), LPAD(COUNTY, 3, '0')) as countycode\n",
    "        FROM counties\n",
    "    ) ON county_code = countycode\n",
    ")\n",
    "WHERE rank = 2\n",
    "ORDER BY mil DESC\n",
    "LIMIT 10\n",
    "\"\"\").toPandas()\n",
    "\n",
    "plt.bar(sec.county, sec.mil)\n",
    "plt.xlabel(\"counties\")\n",
    "plt.ylabel(\"2nd biggest loan application\")\n",
    "plt.xticks(rotation=90);"
   ]
  },
  {
   "cell_type": "markdown",
   "id": "d6799fd0-4c4c-4899-914a-798c2fd70b27",
   "metadata": {},
   "source": [
    "# Part 4"
   ]
  },
  {
   "cell_type": "code",
   "execution_count": 27,
   "id": "6d9631e8-8836-4939-bc5b-3a4e9a9892be",
   "metadata": {},
   "outputs": [
    {
     "name": "stderr",
     "output_type": "stream",
     "text": [
      "                                                                                \r"
     ]
    },
    {
     "data": {
      "image/png": "[encoded data removed]",
      "text/plain": [
       "<Figure size 640x480 with 1 Axes>"
      ]
     },
     "metadata": {},
     "output_type": "display_data"
    }
   ],
   "source": [
    "#q9\n",
    "import time\n",
    "\n",
    "dff = spark.sql(\"\"\"\n",
    "SELECT interest_rate\n",
    "FROM banks\n",
    "INNER JOIN loans\n",
    "ON banks.lei_2020 = loans.lei \n",
    "WHERE banks.respondent_name = 'Wells Fargo Bank, National Association'\n",
    "\"\"\")\n",
    "\n",
    "first=[]\n",
    "seco=[]\n",
    "for i in range(10):\n",
    "    start_time = time.time()\n",
    "    dff.count()\n",
    "    end_time = time.time()\n",
    "    ms = (end_time - start_time) * 1000\n",
    "    #print(f\"Iteration {i+1}: {ms:.2f} ms\")\n",
    "    if i == 4:\n",
    "        dff.cache()\n",
    "    if i<=4:\n",
    "        first.append(ms)\n",
    "    else:\n",
    "        seco.append(ms)\n",
    "        \n",
    "plt.plot(range(5), first)\n",
    "plt.plot(range(5,10), seco)\n",
    "plt.xlabel(\"Query number\")\n",
    "plt.ylabel(\"Miliseconds\")\n",
    "plt.legend([\"No Caching\", \"Caching\"]);"
   ]
  },
  {
   "cell_type": "code",
   "execution_count": 30,
   "id": "8d39216b-dbd1-4cda-869a-5711e45de5e4",
   "metadata": {},
   "outputs": [
    {
     "data": {
      "image/png": "[encoded data removed]",
      "text/plain": [
       "<Figure size 640x480 with 1 Axes>"
      ]
     },
     "metadata": {},
     "output_type": "display_data"
    }
   ],
   "source": [
    "#q10\n",
    "from pyspark import SparkContext\n",
    "sc = SparkContext.getOrCreate()\n",
    "#print(sc.applicationId)\n",
    "\n",
    "import requests\n",
    "dff = dff.repartition(1)\n",
    "dff.cache()\n",
    "\n",
    "w1=[]\n",
    "w2=[]\n",
    "for i in range(10):\n",
    "    dff.count()\n",
    "    response = requests.get(f'http://localhost:4040/api/v1/applications/{sc.applicationId}/executors')\n",
    "    executors = response.json()\n",
    "    w1.append(executors[1][\"completedTasks\"])\n",
    "    w2.append(executors[2][\"completedTasks\"])\n",
    "    #print(w1, w2, \"\\n\")\n",
    "        \n",
    "plt.plot(range(10), w1)\n",
    "plt.plot(range(10), w2)\n",
    "plt.xlabel(\"Query number\")\n",
    "plt.ylabel(\"Task count\")\n",
    "plt.legend([\"worker 1\", \"worker 2\"]);"
   ]
  },
  {
   "cell_type": "code",
   "execution_count": null,
   "id": "7dd67333-e7ef-42ac-a0ab-202209b6d87a",
   "metadata": {},
   "outputs": [],
   "source": []
  }
 ],
 "metadata": {
  "kernelspec": {
   "display_name": "Python 3 (ipykernel)",
   "language": "python",
   "name": "python3"
  },
  "language_info": {
   "codemirror_mode": {
    "name": "ipython",
    "version": 3
   },
   "file_extension": ".py",
   "mimetype": "text/x-python",
   "name": "python",
   "nbconvert_exporter": "python",
   "pygments_lexer": "ipython3",
   "version": "3.8.10"
  }
 },
 "nbformat": 4,
 "nbformat_minor": 5
}
