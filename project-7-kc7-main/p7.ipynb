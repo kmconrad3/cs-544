{
 "cells": [
  {
   "cell_type": "code",
   "execution_count": 1,
   "id": "31611062",
   "metadata": {},
   "outputs": [],
   "source": [
    "from google.cloud import bigquery\n",
    "bq = bigquery.Client(\"cs-544-377118\")\n",
    "no_cache = bigquery.QueryJobConfig(use_query_cache=False)\n",
    "\n",
    "# use \"gcloud auth application-default revoke\" when not working\n",
    "# gcloud auth application-default login --scopes=openid,https://www.googleapis.com/auth/cloud-platform,https://www.googleapis.com/auth/drive.readonly"
   ]
  },
  {
   "cell_type": "code",
   "execution_count": 2,
   "id": "8454fefc",
   "metadata": {},
   "outputs": [
    {
     "data": {
      "text/plain": [
       "'55025'"
      ]
     },
     "execution_count": 2,
     "metadata": {},
     "output_type": "execute_result"
    }
   ],
   "source": [
    "#q1\n",
    "q1 = bq.query(\"\"\"\n",
    "    SELECT geo_id \n",
    "    FROM bigquery-public-data.geo_us_boundaries.counties\n",
    "    WHERE county_name = \"Dane\"\n",
    "    LIMIT 10\n",
    "    \"\"\",job_config=no_cache)\n",
    "q1s = q1.to_dataframe()\n",
    "\n",
    "#print(\"The geo_id for Dane County is: \" + strr)\n",
    "str(q1s[\"geo_id\"][0])"
   ]
  },
  {
   "cell_type": "code",
   "execution_count": 3,
   "id": "1739ebfc",
   "metadata": {},
   "outputs": [
    {
     "data": {
      "text/plain": [
       "{'48': 254, '13': 159, '51': 133, '21': 120, '29': 115}"
      ]
     },
     "execution_count": 3,
     "metadata": {},
     "output_type": "execute_result"
    }
   ],
   "source": [
    "#q2\n",
    "q2 = bq.query(\"\"\"\n",
    "    SELECT state_fips_code, COUNT(*) AS count\n",
    "    FROM bigquery-public-data.geo_us_boundaries.counties\n",
    "    GROUP BY state_fips_code\n",
    "    ORDER BY count desc\n",
    "    LIMIT 5\n",
    "    \"\"\",job_config=no_cache)\n",
    "q2_dict = q2.to_dataframe()\n",
    "\n",
    "dict(zip(q2_dict[\"state_fips_code\"], q2_dict[\"count\"]))"
   ]
  },
  {
   "cell_type": "code",
   "execution_count": 4,
   "id": "f9c2ab0a",
   "metadata": {},
   "outputs": [
    {
     "data": {
      "text/plain": [
       "{'q1': 4.76837158203125e-05, 'q2': 4.76837158203125e-05}"
      ]
     },
     "execution_count": 4,
     "metadata": {},
     "output_type": "execute_result"
    }
   ],
   "source": [
    "#q3\n",
    "q3_1 = q1.total_bytes_billed / 1024**4 #TB for query\n",
    "q3_2 = q2.total_bytes_billed / 1024**4 \n",
    "#$5 per TB\n",
    "\n",
    "q3_1 = q3_1 * 5\n",
    "q3_2 = q3_2 * 5\n",
    "query_dict = {'q1': q3_1, 'q2': q3_2}\n",
    "query_dict\n",
    "\n",
    "#For each of those queries, they cost around .005 cents"
   ]
  },
  {
   "cell_type": "code",
   "execution_count": 5,
   "id": "2bea4ca9",
   "metadata": {},
   "outputs": [
    {
     "data": {
      "text/plain": [
       "['p7']"
      ]
     },
     "execution_count": 5,
     "metadata": {},
     "output_type": "execute_result"
    }
   ],
   "source": [
    "#q4\n",
    "dataset = bigquery.Dataset(\"cs-544-377118.p7\")\n",
    "bq.create_dataset(dataset, exists_ok=True)\n",
    "\n",
    "for ds in bq.list_datasets(\"cs-544-377118\"):\n",
    "    dsid = (str((ds.dataset_id[-2:2])))  \n",
    "    \n",
    "([dsid])"
   ]
  },
  {
   "cell_type": "code",
   "execution_count": 6,
   "id": "cb64defd",
   "metadata": {},
   "outputs": [
    {
     "data": {
      "text/plain": [
       "LoadJob<project=cs-544-377118, location=US, id=03d90d52-209e-4650-963f-c93395632121>"
      ]
     },
     "execution_count": 6,
     "metadata": {},
     "output_type": "execute_result"
    }
   ],
   "source": [
    "#config = bigquery.ExternalConfig(\"PARQUET\")\n",
    "#config.source_uris = [\"gs://vm1-544/hdma-wi-2021.parquet\"] \n",
    "#https://pages.cs.wisc.edu/~harter/cs639/data/hdma-wi-2021.parquet\n",
    "#table = bigquery.Table(\"cs-544-377118.p7.hdma\") \n",
    "#table.external_data_configuration=config\n",
    "#bq.create_table(table,exists_ok=True)\n",
    "\n",
    "config = bigquery.LoadJobConfig(source_format=\"PARQUET\", write_disposition=\"WRITE_TRUNCATE\")\n",
    "job = bq.load_table_from_uri([\"gs://vm1-544/hdma-wi-2021.parquet\"],\n",
    "                             \"cs-544-377118.p7.hdma\", job_config=config)\n",
    "job.result()"
   ]
  },
  {
   "cell_type": "code",
   "execution_count": 7,
   "id": "58146464",
   "metadata": {},
   "outputs": [
    {
     "data": {
      "text/plain": [
       "{'Milwaukee': 46570,\n",
       " 'Dane': 38557,\n",
       " 'Waukesha': 34159,\n",
       " 'Brown': 15615,\n",
       " 'Racine': 13007,\n",
       " 'Outagamie': 11523,\n",
       " 'Kenosha': 10744,\n",
       " 'Washington': 10726,\n",
       " 'Rock': 9834,\n",
       " 'Winnebago': 9310}"
      ]
     },
     "execution_count": 7,
     "metadata": {},
     "output_type": "execute_result"
    }
   ],
   "source": [
    "#q5\n",
    "q5 =  bq.query(\"\"\"\n",
    "    SELECT county_name, COUNT(*) AS count\n",
    "    FROM bigquery-public-data.geo_us_boundaries.counties\n",
    "    INNER JOIN cs-544-377118.p7.hdma on county_code = county_fips_code\n",
    "    GROUP BY county_name\n",
    "    ORDER BY count desc\n",
    "    LIMIT 10\n",
    "    \"\"\")\n",
    "q5 = q5.to_dataframe()\n",
    "\n",
    "dict(zip(q5[\"county_name\"], q5[\"count\"]))"
   ]
  },
  {
   "cell_type": "code",
   "execution_count": 8,
   "id": "58b3fa57",
   "metadata": {},
   "outputs": [],
   "source": [
    "url = \"https://drive.google.com/open?id=1e2qLPyxZ7s5ibMyEg7bxX2wWYAQD2ROAUcZuv8fqhnA\"\n",
    "\n",
    "external_config = bigquery.ExternalConfig(\"GOOGLE_SHEETS\")\n",
    "external_config.source_uris = [url]\n",
    "external_config.options.skip_leading_rows = 1\n",
    "external_config.autodetect = True\n",
    "\n",
    "table = bigquery.Table(dataset.table(\"vacation\"))\n",
    "table.external_data_configuration = external_config\n",
    "\n",
    "table = bq.create_table(table, exists_ok=True)"
   ]
  },
  {
   "cell_type": "code",
   "execution_count": 9,
   "id": "e2af5a5f",
   "metadata": {},
   "outputs": [
    {
     "data": {
      "text/plain": [
       "2"
      ]
     },
     "execution_count": 9,
     "metadata": {},
     "output_type": "execute_result"
    }
   ],
   "source": [
    "#q6\n",
    "q6 = bq.query(\"\"\"\n",
    "    SELECT COUNT(*) AS count\n",
    "    FROM cs-544-377118.p7.vacation\n",
    "    WHERE income = 50000\n",
    "    GROUP BY income\n",
    "    \"\"\")\n",
    "q6 = q6.to_dataframe()\n",
    "\n",
    "q6[\"count\"][0]"
   ]
  },
  {
   "cell_type": "code",
   "execution_count": 10,
   "id": "250bd5ec",
   "metadata": {},
   "outputs": [
    {
     "data": {
      "text/plain": [
       "{'Dane': 32,\n",
       " 'Door': 5,\n",
       " 'Jefferson': 4,\n",
       " 'Brown': 3,\n",
       " 'Bayfield': 3,\n",
       " 'Walworth': 2,\n",
       " 'Columbia': 2,\n",
       " 'Milwaukee': 2,\n",
       " 'Sheboygan': 1,\n",
       " 'Monroe': 1,\n",
       " 'La Crosse': 1,\n",
       " 'Iowa': 1,\n",
       " 'Dodge': 1,\n",
       " 'Iron': 1,\n",
       " 'Kewaunee': 1,\n",
       " 'Adams': 1,\n",
       " 'Waukesha': 1,\n",
       " 'Green Lake': 1,\n",
       " 'Oneida': 1,\n",
       " 'Sauk': 1,\n",
       " 'Barron': 1,\n",
       " 'Ashland': 1,\n",
       " 'Washburn': 1}"
      ]
     },
     "execution_count": 10,
     "metadata": {},
     "output_type": "execute_result"
    }
   ],
   "source": [
    "#q7\n",
    "q7 = bq.query(\"\"\"\n",
    "    SELECT county_name, COUNT(*) AS count\n",
    "    FROM bigquery-public-data.geo_us_boundaries.counties, cs-544-377118.p7.vacation\n",
    "    WHERE ST_DWithin(\n",
    "         county_geom,\n",
    "         ST_GeogPoint(longitude, latitude), 100) and state_fips_code = '55'\n",
    "    GROUP BY county_name\n",
    "    ORDER BY count desc\n",
    "    \"\"\")\n",
    "q7 = q7.to_dataframe()\n",
    "\n",
    "dict(zip(q7[\"county_name\"], q7[\"count\"]))"
   ]
  },
  {
   "cell_type": "code",
   "execution_count": 11,
   "id": "502820d0",
   "metadata": {},
   "outputs": [
    {
     "data": {
      "text/plain": [
       "0.2904647351471993"
      ]
     },
     "execution_count": 11,
     "metadata": {},
     "output_type": "execute_result"
    }
   ],
   "source": [
    "#q8\n",
    "q8 = bq.query(\"\"\"\n",
    "CREATE OR REPLACE MODEL `cs-544-377118.p7.hdma-model`\n",
    "OPTIONS (model_type=\"linear_reg\",\n",
    "  input_label_cols=[\"loan_amount\"]) \n",
    "AS\n",
    "SELECT income,loan_term, loan_amount\n",
    "FROM `cs-544-377118.p7.hdma`\n",
    "  \"\"\")\n",
    "q8.to_dataframe()\n",
    "\n",
    "\n",
    "q8_m = bq.query(\"\"\"\n",
    "SELECT *\n",
    "FROM ML.EVALUATE(MODEL `cs-544-377118.p7.hdma-model`)\n",
    "  \"\"\")\n",
    "q8m = q8_m.to_dataframe()\n",
    "\n",
    "\n",
    "#print(\"The model's r2 score is: \", q8m[\"r2_score\"][0])\n",
    "q8m[\"r2_score\"][0]"
   ]
  },
  {
   "cell_type": "code",
   "execution_count": 12,
   "id": "e05aedc1",
   "metadata": {},
   "outputs": [
    {
     "data": {
      "text/plain": [
       "0.8057773037176693"
      ]
     },
     "execution_count": 12,
     "metadata": {},
     "output_type": "execute_result"
    }
   ],
   "source": [
    "#q9\n",
    "q9 = bq.query(\"\"\"\n",
    "SELECT *\n",
    "FROM ML.WEIGHTS(MODEL `cs-544-377118.p7.hdma-model`)\n",
    "    \"\"\")\n",
    "q9 = q9.to_dataframe()\n",
    "\n",
    "#print(\"The coefficient weight on income column:\", q9[\"weight\"][0])\n",
    "q9[\"weight\"][0]"
   ]
  },
  {
   "cell_type": "code",
   "execution_count": 13,
   "id": "9289ce88",
   "metadata": {},
   "outputs": [
    {
     "data": {
      "text/plain": [
       "0.7666666666666667"
      ]
     },
     "execution_count": 13,
     "metadata": {},
     "output_type": "execute_result"
    }
   ],
   "source": [
    "#q10\n",
    "q10 = bq.query(\"\"\"\n",
    "SELECT COUNT(*) AS total_num_of_applications\n",
    "FROM\n",
    "  ML.PREDICT(MODEL `cs-544-377118.p7.hdma-model`,\n",
    "    (\n",
    "    SELECT income, loan_amount, 360 AS loan_term\n",
    "    FROM `cs-544-377118.p7.vacation`))\n",
    "\"\"\").to_dataframe()\n",
    "\n",
    "\n",
    "q10p2 = bq.query(\"\"\"\n",
    "SELECT COUNT(*) AS total_num_with_higher_amts_than_model\n",
    "FROM\n",
    "  ML.PREDICT(MODEL `cs-544-377118.p7.hdma-model`,\n",
    "    (\n",
    "    SELECT loan_amount, income, 360 AS loan_term\n",
    "    FROM `cs-544-377118.p7.vacation`\n",
    "    WHERE loan_amount > income))\n",
    "\"\"\").to_dataframe()\n",
    "ratio = q10p2[\"total_num_with_higher_amts_than_model\"][0] / q10[\"total_num_of_applications\"][0]\n",
    "\n",
    "#print(\"The ratio:\", ratio)\n",
    "ratio"
   ]
  },
  {
   "cell_type": "code",
   "execution_count": null,
   "id": "c23c2788-a835-4915-bebd-7bfbd6caecdc",
   "metadata": {},
   "outputs": [],
   "source": []
  }
 ],
 "metadata": {
  "kernelspec": {
   "display_name": "Python 3 (ipykernel)",
   "language": "python",
   "name": "python3"
  },
  "language_info": {
   "codemirror_mode": {
    "name": "ipython",
    "version": 3
   },
   "file_extension": ".py",
   "mimetype": "text/x-python",
   "name": "python",
   "nbconvert_exporter": "python",
   "pygments_lexer": "ipython3",
   "version": "3.8.10"
  }
 },
 "nbformat": 4,
 "nbformat_minor": 5
}
