{
 "cells": [
  {
   "cell_type": "markdown",
   "id": "bd228fe5-874f-48b7-9735-64d82e575a0d",
   "metadata": {},
   "source": [
    "# Part 1: Prediction with Hardcoded Model"
   ]
  },
  {
   "cell_type": "code",
   "execution_count": 1,
   "id": "a88c1d4b-f914-4072-9b62-d1f1ca798c14",
   "metadata": {},
   "outputs": [],
   "source": [
    "import torch\n",
    "import numpy as np\n",
    "import pandas as pd\n",
    "import matplotlib.pyplot as plt"
   ]
  },
  {
   "cell_type": "code",
   "execution_count": 2,
   "id": "d37a5aa4-022e-464e-9324-64ccc6a4ca7d",
   "metadata": {},
   "outputs": [],
   "source": [
    "import time\n",
    "import random"
   ]
  },
  {
   "cell_type": "code",
   "execution_count": 3,
   "id": "c270b742-53f1-4868-971b-8026dc891c79",
   "metadata": {},
   "outputs": [],
   "source": [
    "test = pd.read_csv(\"https://raw.githubusercontent.com/cs544-wisc/s23/main/p1/test.csv\")\n",
    "test_data = test.values\n",
    "testX = torch.tensor(test_data[:, :10], dtype = torch.float32)\n",
    "testY = torch.tensor(test_data[:, -1], dtype = torch.float32)"
   ]
  },
  {
   "cell_type": "code",
   "execution_count": 4,
   "id": "50fc6f32-d061-464d-8f13-727286c53969",
   "metadata": {},
   "outputs": [],
   "source": [
    "train = pd.read_csv(\"https://raw.githubusercontent.com/cs544-wisc/s23/main/p1/train.csv\")\n",
    "train_data = train.values\n",
    "trainX = torch.tensor(train_data[:, :10], dtype = torch.float32)\n",
    "trainY = torch.tensor(train_data[:, -1], dtype = torch.float32)"
   ]
  },
  {
   "cell_type": "code",
   "execution_count": 5,
   "id": "26d8713b-9fe2-4954-80dd-2f083da7ce58",
   "metadata": {},
   "outputs": [],
   "source": [
    "coef = torch.tensor([\n",
    "        [0.0040],\n",
    "        [0.0040],\n",
    "        [0.0040],\n",
    "        [0.0040],\n",
    "        [0.0040],\n",
    "        [0.0040], # POS_50_59_CP\n",
    "        [0.0300], # POS_60_69_CP\n",
    "        [0.0300],\n",
    "        [0.0300],\n",
    "        [0.0300]\n",
    "], dtype=testX.dtype)"
   ]
  },
  {
   "cell_type": "code",
   "execution_count": 6,
   "id": "7cfaa7dc-c613-4b7c-b8cc-168fb0262601",
   "metadata": {
    "tags": []
   },
   "outputs": [
    {
     "data": {
      "text/plain": [
       "9.844000816345215"
      ]
     },
     "execution_count": 6,
     "metadata": {},
     "output_type": "execute_result"
    }
   ],
   "source": [
    "(testX[0] @ coef).item()"
   ]
  },
  {
   "cell_type": "code",
   "execution_count": 7,
   "id": "902ac182-5a0f-4a46-83d0-9a475382104a",
   "metadata": {
    "tags": []
   },
   "outputs": [],
   "source": [
    "#torch.cuda.is_available()"
   ]
  },
  {
   "cell_type": "markdown",
   "id": "fc7e1079-af38-4f19-bfc9-c564fff1a032",
   "metadata": {},
   "source": [
    "# Part 2: R^2 Score"
   ]
  },
  {
   "cell_type": "code",
   "execution_count": 8,
   "id": "8f3ad9e0-17ef-4054-affc-7dcb33ab3ce8",
   "metadata": {},
   "outputs": [],
   "source": [
    "predictedY = (testX @ coef).flatten()"
   ]
  },
  {
   "cell_type": "code",
   "execution_count": 9,
   "id": "145f55d9-b52b-4cbd-a0ff-5fe475ffd818",
   "metadata": {
    "tags": []
   },
   "outputs": [],
   "source": [
    "def r2_score(testY, predictedY):\n",
    "    SStot = torch.dot( testY.mean()-testY, testY.mean()-testY )\n",
    "    SSreg = torch.dot( predictedY-testY, predictedY-testY ) \n",
    "    improvement = SStot - SSreg\n",
    "    return improvement/SStot\n",
    "    "
   ]
  },
  {
   "cell_type": "code",
   "execution_count": 10,
   "id": "08eece7e-7f54-42bc-a474-972627287023",
   "metadata": {},
   "outputs": [
    {
     "data": {
      "text/plain": [
       "tensor(0.4110)"
      ]
     },
     "execution_count": 10,
     "metadata": {},
     "output_type": "execute_result"
    }
   ],
   "source": [
    "r2_score(testY, predictedY)"
   ]
  },
  {
   "cell_type": "markdown",
   "id": "43ee10b7-e7be-48be-8996-3bce1af8b6c8",
   "metadata": {},
   "source": [
    "# Part 3: Optimization"
   ]
  },
  {
   "cell_type": "code",
   "execution_count": 11,
   "id": "7d122f40-6bc1-42eb-b336-61faf13aeb74",
   "metadata": {
    "tags": []
   },
   "outputs": [],
   "source": [
    "x = torch.tensor(0.0, requires_grad=True)\n",
    "y = x**2 - 8*x + 19\n",
    "optimizer = torch.optim.SGD([x], lr=0.1)"
   ]
  },
  {
   "cell_type": "code",
   "execution_count": 12,
   "id": "e3f2651e-1240-4376-af7f-05381c59c2d8",
   "metadata": {
    "tags": []
   },
   "outputs": [
    {
     "name": "stdout",
     "output_type": "stream",
     "text": [
      "tensor(0.8000, requires_grad=True) tensor(19., grad_fn=<AddBackward0>)\n",
      "tensor(1.4400, requires_grad=True) tensor(13.2400, grad_fn=<AddBackward0>)\n",
      "tensor(1.9520, requires_grad=True) tensor(9.5536, grad_fn=<AddBackward0>)\n",
      "tensor(2.3616, requires_grad=True) tensor(7.1943, grad_fn=<AddBackward0>)\n",
      "tensor(2.6893, requires_grad=True) tensor(5.6844, grad_fn=<AddBackward0>)\n",
      "tensor(2.9514, requires_grad=True) tensor(4.7180, grad_fn=<AddBackward0>)\n",
      "tensor(3.1611, requires_grad=True) tensor(4.0995, grad_fn=<AddBackward0>)\n",
      "tensor(3.3289, requires_grad=True) tensor(3.7037, grad_fn=<AddBackward0>)\n",
      "tensor(3.4631, requires_grad=True) tensor(3.4504, grad_fn=<AddBackward0>)\n",
      "tensor(3.5705, requires_grad=True) tensor(3.2882, grad_fn=<AddBackward0>)\n",
      "tensor(3.6564, requires_grad=True) tensor(3.1845, grad_fn=<AddBackward0>)\n",
      "tensor(3.7251, requires_grad=True) tensor(3.1181, grad_fn=<AddBackward0>)\n",
      "tensor(3.7801, requires_grad=True) tensor(3.0756, grad_fn=<AddBackward0>)\n",
      "tensor(3.8241, requires_grad=True) tensor(3.0484, grad_fn=<AddBackward0>)\n",
      "tensor(3.8593, requires_grad=True) tensor(3.0309, grad_fn=<AddBackward0>)\n",
      "tensor(3.8874, requires_grad=True) tensor(3.0198, grad_fn=<AddBackward0>)\n",
      "tensor(3.9099, requires_grad=True) tensor(3.0127, grad_fn=<AddBackward0>)\n",
      "tensor(3.9279, requires_grad=True) tensor(3.0081, grad_fn=<AddBackward0>)\n",
      "tensor(3.9424, requires_grad=True) tensor(3.0052, grad_fn=<AddBackward0>)\n",
      "tensor(3.9539, requires_grad=True) tensor(3.0033, grad_fn=<AddBackward0>)\n",
      "tensor(3.9631, requires_grad=True) tensor(3.0021, grad_fn=<AddBackward0>)\n",
      "tensor(3.9705, requires_grad=True) tensor(3.0014, grad_fn=<AddBackward0>)\n",
      "tensor(3.9764, requires_grad=True) tensor(3.0009, grad_fn=<AddBackward0>)\n",
      "tensor(3.9811, requires_grad=True) tensor(3.0006, grad_fn=<AddBackward0>)\n",
      "tensor(3.9849, requires_grad=True) tensor(3.0004, grad_fn=<AddBackward0>)\n",
      "tensor(3.9879, requires_grad=True) tensor(3.0002, grad_fn=<AddBackward0>)\n",
      "tensor(3.9903, requires_grad=True) tensor(3.0001, grad_fn=<AddBackward0>)\n",
      "tensor(3.9923, requires_grad=True) tensor(3.0001, grad_fn=<AddBackward0>)\n",
      "tensor(3.9938, requires_grad=True) tensor(3.0001, grad_fn=<AddBackward0>)\n",
      "tensor(3.9950, requires_grad=True) tensor(3.0000, grad_fn=<AddBackward0>)\n"
     ]
    },
    {
     "data": {
      "image/png": "[encoded data removed]",
      "text/plain": [
       "<Figure size 640x480 with 1 Axes>"
      ]
     },
     "metadata": {},
     "output_type": "display_data"
    },
    {
     "data": {
      "text/plain": [
       "3.9950480461120605"
      ]
     },
     "execution_count": 12,
     "metadata": {},
     "output_type": "execute_result"
    }
   ],
   "source": [
    "graph={}\n",
    "for epoch in range(30):\n",
    "    optimizer.zero_grad()\n",
    "    y = x**2 - 8*x + 19\n",
    "    plt.plot(x.detach(), y.detach(), \"ro\")\n",
    "    graph[x.detach().clone()]=y.detach() #clone changes values AND key\n",
    "    y.backward()\n",
    "    optimizer.step()\n",
    "    print(x, y)\n",
    "    \n",
    "plt.plot(graph.keys(), graph.values())    \n",
    "plt.ylabel(\" y = $\\mathregular{x^2}$ - 8x + 19\")\n",
    "plt.xlabel(\" x inputs\")\n",
    "plt.show()\n",
    "\n",
    "x.item()"
   ]
  },
  {
   "cell_type": "markdown",
   "id": "3da0e6d7-ee30-4c4f-ba0e-2e552e28d717",
   "metadata": {},
   "source": [
    "# Part 4: Linear Regression"
   ]
  },
  {
   "cell_type": "code",
   "execution_count": 13,
   "id": "17e48a94-8f3a-4112-be22-a1b3b9a4b2ef",
   "metadata": {},
   "outputs": [],
   "source": [
    "ds = torch.utils.data.TensorDataset(trainX, trainY.reshape(-1,1))\n",
    "dl = torch.utils.data.DataLoader(ds, shuffle=True, batch_size=12)"
   ]
  },
  {
   "cell_type": "code",
   "execution_count": 14,
   "id": "42611fc1-112f-4292-b8d9-7514352aab93",
   "metadata": {},
   "outputs": [],
   "source": [
    "model = torch.nn.Linear(10,1)\n",
    "loss_fn = torch.nn.MSELoss()\n",
    "\n",
    "optimizer = torch.optim.SGD([model.weight, model.bias], lr=0.000001)"
   ]
  },
  {
   "cell_type": "code",
   "execution_count": 15,
   "id": "34669a73-0790-48f9-816b-a99901e3ddff",
   "metadata": {
    "tags": []
   },
   "outputs": [],
   "source": [
    "#testX @ model.weight.T + model.bias & model(testX) same"
   ]
  },
  {
   "cell_type": "code",
   "execution_count": 16,
   "id": "64d047cd-1a07-4aa7-ba68-1d7477d5285b",
   "metadata": {
    "tags": []
   },
   "outputs": [
    {
     "name": "stdout",
     "output_type": "stream",
     "text": [
      "The trainging took 4.299336194992065.\n"
     ]
    }
   ],
   "source": [
    "torch.manual_seed(0)\n",
    "\n",
    "t1 = time.time()\n",
    "for epoch in range(130):\n",
    "    for batchx, batchy in dl:\n",
    "        predy = model(batchx)\n",
    "        loss = loss_fn(batchy, predy)\n",
    "        #plt.bar(batchx.detach(), batchy.detach())\n",
    "        loss.backward()\n",
    "        optimizer.step()\n",
    "        optimizer.zero_grad()\n",
    "    x, y = ds[:]\n",
    "    #print(loss_fn(y, model(x)) )\n",
    "    \n",
    "print(f'The trainging took {time.time()-t1}.')"
   ]
  },
  {
   "cell_type": "code",
   "execution_count": 17,
   "id": "6501fce5-23b8-4706-9c90-b73b6e868e3c",
   "metadata": {
    "tags": []
   },
   "outputs": [
    {
     "data": {
      "text/plain": [
       "tensor(0.5524, grad_fn=<DivBackward0>)"
      ]
     },
     "execution_count": 17,
     "metadata": {},
     "output_type": "execute_result"
    }
   ],
   "source": [
    "r2_score(testY, model(testX).flatten() )"
   ]
  },
  {
   "cell_type": "code",
   "execution_count": 18,
   "id": "fd933429-5e42-464f-91e7-e1e3cefd7380",
   "metadata": {},
   "outputs": [
    {
     "data": {
      "image/png": "[encoded data removed]",
      "text/plain": [
       "<Figure size 640x480 with 1 Axes>"
      ]
     },
     "metadata": {},
     "output_type": "display_data"
    }
   ],
   "source": [
    "plt.bar(np.array(test.columns[:10]), (model.weight.detach().numpy()).flatten())\n",
    "_ = plt.xticks(rotation='vertical')\n",
    "_ = plt.title(\"Optimized Coefficients for Covid Deaths Model by Age Group\")"
   ]
  },
  {
   "cell_type": "code",
   "execution_count": null,
   "id": "46c3bee4-1241-450d-931a-e4cfbb22402f",
   "metadata": {},
   "outputs": [],
   "source": []
  }
 ],
 "metadata": {
  "kernelspec": {
   "display_name": "Python 3 (ipykernel)",
   "language": "python",
   "name": "python3"
  },
  "language_info": {
   "codemirror_mode": {
    "name": "ipython",
    "version": 3
   },
   "file_extension": ".py",
   "mimetype": "text/x-python",
   "name": "python",
   "nbconvert_exporter": "python",
   "pygments_lexer": "ipython3",
   "version": "3.8.10"
  }
 },
 "nbformat": 4,
 "nbformat_minor": 5
}
